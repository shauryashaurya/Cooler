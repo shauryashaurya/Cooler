{
 "cells": [
  {
   "cell_type": "markdown",
   "id": "b5507479-7cdc-4f7b-a144-a1f62fd818fe",
   "metadata": {},
   "source": [
    "# Building a RegEx engine by using Finite Automata based approach"
   ]
  },
  {
   "cell_type": "markdown",
   "id": "e06d976e-094d-45ab-a001-eff67b1797aa",
   "metadata": {},
   "source": [
    "# Finite Automata & Regular Expressions are just **Pattern Matching**      \n",
    "Regular expressions *describe* patterns in text.  \n",
    "Finite automata (DFAs and NFAs) are abstract machines that can *recognize* those patterns.       \n",
    "A finite automaton is, at its core, a graph. It has nodes (**states**) and directed edges (**transitions**).      \n",
    "Our goal is to write a Python program that can \"walk\" this graph based on an input string."
   ]
  },
  {
   "cell_type": "markdown",
   "id": "c29944a6-57a9-4818-8387-0cd11141fe5f",
   "metadata": {},
   "source": [
    "We go:\n",
    "**Regular Expression** `(a|b)*c` → **Thompson's Algorithm** → **NFA** (Nondeterministic Finite Automaton) → **Subset Construction** → **DFA** (Deterministic Finite Automaton)"
   ]
  },
  {
   "cell_type": "markdown",
   "id": "ba07351d-3674-40d1-8077-dd430cad48c4",
   "metadata": {},
   "source": [
    "## DFA & NFA - [**Finite State Machines**](https://en.wikipedia.org/wiki/Finite-state_machine)           \n",
    "           \n",
    "[Finite automata](https://www.geeksforgeeks.org/theory-of-computation/introduction-of-finite-automata/) are simple \"machines\".             \n",
    "They have a finite number of **states** and move between them based on input symbols.              \n",
    "Kind of like a Monopoly or snakes & ladders or similar board game, where each space is a state and the input tells you which path to take.             \n",
    "           \n",
    "[Here's a course I've enjoyed](https://www.youtube.com/playlist?list=PL7HjUNIdk93ThXvz2Oa_g30Jt3Owwm4HZ), hopefully more folks do too.           \n",
    "         "
   ]
  },
  {
   "cell_type": "markdown",
   "id": "365530ac-e149-49a7-a5b1-be198d207c13",
   "metadata": {},
   "source": [
    "  \n",
    "### [Deterministic Finite Automaton (DFA)](https://en.wikipedia.org/wiki/Deterministic_finite_automaton)           \n",
    "           \n",
    "A DFA is strict, predictable.   \n",
    "For any given state and any given input symbol, there is **exactly one** state it can move to.    \n",
    "No ambiguity.           \n",
    "\n",
    "                      \n",
    "           "
   ]
  },
  {
   "cell_type": "markdown",
   "id": "3b43f383-1f79-4bcb-9209-03a8f91bef7e",
   "metadata": {},
   "source": [
    "1.  **One Path:** For any input string, there's only one possible path through the machine.           \n",
    "2.  **No $\\epsilon$-transitions:** The machine can't change state without consuming an input symbol (no \"free\" moves).           \n",
    "3.  **Every state must have a transition for every symbol** in the alphabet.           \n",
    "           "
   ]
  },
  {
   "cell_type": "markdown",
   "id": "6501f346-4997-41ca-955b-ddb4a6d21cc4",
   "metadata": {},
   "source": [
    "A DFA has 5 parts - States, Alphabet, Transitions, Start State, Accept States:            \n",
    "           \n",
    "\n",
    "  * $Q$: A finite set of *states*.           \n",
    "  * $\\Sigma$: A finite set of input *symbols* (aka the alphabet).           \n",
    "  * $\\delta$: The transition *function*, $\\delta: Q \\times \\Sigma \\to Q$. (Given a state and a symbol, it returns *one* next state).           \n",
    "  * $q_0$: The initial start state.           \n",
    "  * $F$: A set of *final* or \"*accept*\" states.           \n",
    "\n",
    "*(This Greek thing is what's formally used, IMO its just dissonance, takes longer for our brains to grok the main idea)*"
   ]
  },
  {
   "cell_type": "markdown",
   "id": "f6a5e067-c353-42e2-b442-603456715915",
   "metadata": {},
   "source": [
    "**Example: A DFA that accepts strings ending in 'a'**           \n",
    "           \n",
    "  * $Q$ - The set of **states:** {$State_0$, $State_1$}           \n",
    "  * $q_0$ - **Start State:** $State_0$           \n",
    "  * **Accept State:** {$State_1$}           \n",
    "  * **Transitions:**           \n",
    "      * From $State_0$, on 'a' go to $State_1$.           \n",
    "      * From $State_0$, on 'b' go to $State_0$.           \n",
    "      * From $State_1$, on 'a' go to $State_1$.           \n",
    "      * From $State_1$, on 'b' go to $State_0$.          \n",
    "           "
   ]
  },
  {
   "cell_type": "markdown",
   "id": "249d6414-3090-4a6c-a2ce-0461b43c47c7",
   "metadata": {},
   "source": [
    "tracing the execution of the state machine for the input string \"**bab**a\":           \n",
    "           \n",
    "1.  Start at $State_0$. Input 'b' -> Stay at $State_0$.           \n",
    "2.  At $State_0$. Input 'a' -> Move to $State_1$.           \n",
    "3.  At $State_1$. Input 'b' -> Move to $State_0$.           \n",
    "4.  At $State_0$. Input 'a' -> Move to $State_1$.           \n",
    "       \n",
    "...end of string. We are in S1, which is an accept state. **The string is accepted!**            \n",
    "          "
   ]
  },
  {
   "cell_type": "markdown",
   "id": "a2945509-9960-4ff5-b943-9b7c1b3b458d",
   "metadata": {},
   "source": [
    "#### The *trick* for a DFA is: from any given state, for any given input symbol, there is **exactly one** place to go next.     \n",
    "Another heuristic is to draw the machine as a graph, where as many arrows exit the node as enter.   \n",
    "Also, every symbol in the alphabet is addressed in each node."
   ]
  },
  {
   "cell_type": "markdown",
   "id": "0b8f2a13-ad80-4053-b0c4-850af263d7ce",
   "metadata": {},
   "source": [
    "#### DFA State Machine **Execution Engine**  \n",
    "\n",
    "`Engine` is a big word for a simple function.   \n",
    "It expects a dictionary of the following format and cycles through any input string to `execute`...   \n",
    "```Python\n",
    "dfa = {\n",
    "    \"states\":{},         # dict of states - \"state_name\"\n",
    "    \"alphabet\":{},       # dict of alphabets - \"alphabet\"\n",
    "    \"transitions\":{},    # dict of transitions - {\"state_name\": {\"input_alphabet\":\"next_state\", \"input_alphabet\":\"next_state\"...}, ...}\n",
    "    \"start_state\":\"\",    # string - the \"state_name\" of the start state\n",
    "    \"accept_states\":{}   # dict of accept states\n",
    "}\n",
    "```"
   ]
  },
  {
   "cell_type": "code",
   "execution_count": 1,
   "id": "524a862e-d7ed-46d3-9b46-8f6426c528e5",
   "metadata": {},
   "outputs": [],
   "source": [
    "# RUN DA DFA - a method to run the DFA and provide a trace of how the machine processed things\n",
    "# It expects a DFA with states, alphabet, transitions, start_state, accept_states\n",
    "def run_da_dfa(machine, input_string):\n",
    "\n",
    "    current_state = machine[\"start_state\"]\n",
    "    print(f\"Start: state = {current_state}\")\n",
    "\n",
    "    # Process the string one symbol at a time.\n",
    "    for symbol in input_string:\n",
    "        # Check if the symbol is valid for this machine.\n",
    "        if symbol not in machine[\"alphabet\"]:\n",
    "            print(f\"  Error: Symbol '{symbol}' not in alphabet. Rejecting.\")\n",
    "            return False\n",
    "\n",
    "        # Look up the next state from the transitions table.\n",
    "        next_state = machine[\"transitions\"][current_state][symbol]\n",
    "        print(f\"  Input '{symbol}': {current_state} -> {next_state}\")\n",
    "        current_state = next_state\n",
    "\n",
    "    # After the loop, check if the final state is an accept state.\n",
    "    is_accepted = current_state in machine[\"accept_states\"]\n",
    "    print(f\"End: final state = {current_state}. Accepted: {is_accepted}\\n\")\n",
    "    return is_accepted"
   ]
  },
  {
   "cell_type": "markdown",
   "id": "2e2be8f2-06d8-459b-8319-a03accbd0055",
   "metadata": {},
   "source": [
    "#### Example 01:  **strings that contain an even number of 'a's**.   \n",
    "The alphabet is {'a', 'b'}.\n",
    "\n",
    "  * `\"aba\"` -\\> accepted (2 'a's)\n",
    "  * `\"b\"` -\\> accepted (0 'a's)\n",
    "  * `\"a\"` -\\> rejected (1 'a')\n",
    "  * `\"aaab\"` -\\> rejected (3 'a's)"
   ]
  },
  {
   "cell_type": "markdown",
   "id": "b3306ec3-6f04-46e3-b7b7-9269fb370642",
   "metadata": {},
   "source": [
    "We build a machine with two states:\n",
    "  \n",
    "1.  `q0`: even number of 'a's seen in the string so far. This is our **start state**. Since 0 is even, it is also an **accept state**.\n",
    "2.  `q1`: encountered an odd number of 'a's so far.\n",
    "   "
   ]
  },
  {
   "cell_type": "markdown",
   "id": "845bca4d-0c6b-48ae-be5c-3ad4bcf4fd53",
   "metadata": {},
   "source": [
    "represent this entire machine as a Python dictionary.   \n",
    "This is just a data structure - there's no complex logic in it yet."
   ]
  },
  {
   "cell_type": "markdown",
   "id": "9fd08385-8f3a-4013-9f29-25b4e113375b",
   "metadata": {},
   "source": [
    "```mermaid\n",
    "stateDiagram-v2\n",
    "    direction LR\n",
    "    [*] --> q0\n",
    "    q0 --> q1: a\n",
    "    q0 --> q0: b\n",
    "    q1 --> q0: a\n",
    "    q1 --> q1: b\n",
    "    q0: q0 (both, start state and accept state)\n",
    "```"
   ]
  },
  {
   "cell_type": "code",
   "execution_count": 2,
   "id": "42548470-792a-4524-87ab-47257926081f",
   "metadata": {},
   "outputs": [],
   "source": [
    "# DFA = {states, alphabets, transitions, start_state, accept_states}\n",
    "even_a_machine = {\n",
    "    # A set of all states for this machine.\n",
    "    \"states\": {\"q0\", \"q1\"},\n",
    "    # The set of allowed input symbols.\n",
    "    \"alphabet\": {\"a\", \"b\"},\n",
    "    # The transition function, mapping (state, symbol) to a next state.\n",
    "    # For a DFA, the next state is a single state.\n",
    "    \"transitions\": {\n",
    "        \"q0\": {\"a\": \"q1\", \"b\": \"q0\"},\n",
    "        \"q1\": {\"a\": \"q0\", \"b\": \"q1\"},\n",
    "    },\n",
    "    # The single state where the machine begins.\n",
    "    \"start_state\": \"q0\",\n",
    "    # A set of states that mean \"accept\" if the machine finishes in one of them.\n",
    "    \"accept_states\": {\"q0\"},\n",
    "}"
   ]
  },
  {
   "cell_type": "code",
   "execution_count": 3,
   "id": "ad3429fc-af31-46d5-9181-f2cc49239e43",
   "metadata": {},
   "outputs": [
    {
     "name": "stdout",
     "output_type": "stream",
     "text": [
      "Testing '':\n",
      "Start: state = q0\n",
      "End: final state = q0. Accepted: True\n",
      "\n"
     ]
    },
    {
     "data": {
      "text/plain": [
       "True"
      ]
     },
     "execution_count": 3,
     "metadata": {},
     "output_type": "execute_result"
    }
   ],
   "source": [
    "print(\"Testing '':\")\n",
    "run_da_dfa(even_a_machine, \"\")     # Expected: True (0 is even)"
   ]
  },
  {
   "cell_type": "code",
   "execution_count": 4,
   "id": "381aa56e-4e09-4f82-b4ce-6985b316bbe8",
   "metadata": {},
   "outputs": [
    {
     "name": "stdout",
     "output_type": "stream",
     "text": [
      "Testing 'aba':\n",
      "Start: state = q0\n",
      "  Input 'a': q0 -> q1\n",
      "  Input 'b': q1 -> q1\n",
      "  Input 'a': q1 -> q0\n",
      "End: final state = q0. Accepted: True\n",
      "\n"
     ]
    },
    {
     "data": {
      "text/plain": [
       "True"
      ]
     },
     "execution_count": 4,
     "metadata": {},
     "output_type": "execute_result"
    }
   ],
   "source": [
    "print(\"Testing 'aba':\")\n",
    "run_da_dfa(even_a_machine, \"aba\")  # Expected: True"
   ]
  },
  {
   "cell_type": "code",
   "execution_count": 5,
   "id": "5bdca6d1-be57-4424-8d25-77b0ce36489f",
   "metadata": {},
   "outputs": [
    {
     "name": "stdout",
     "output_type": "stream",
     "text": [
      "Testing 'a':\n",
      "Start: state = q0\n",
      "  Input 'a': q0 -> q1\n",
      "End: final state = q1. Accepted: False\n",
      "\n"
     ]
    },
    {
     "data": {
      "text/plain": [
       "False"
      ]
     },
     "execution_count": 5,
     "metadata": {},
     "output_type": "execute_result"
    }
   ],
   "source": [
    "print(\"Testing 'a':\")\n",
    "run_da_dfa(even_a_machine, \"a\")    # Expected: False"
   ]
  },
  {
   "cell_type": "code",
   "execution_count": 6,
   "id": "1aedddaf-5daf-4da5-b692-e99df3b28ae1",
   "metadata": {},
   "outputs": [
    {
     "name": "stdout",
     "output_type": "stream",
     "text": [
      "Testing 'bbab':\n",
      "Start: state = q0\n",
      "  Input 'b': q0 -> q0\n",
      "  Input 'b': q0 -> q0\n",
      "  Input 'a': q0 -> q1\n",
      "  Input 'b': q1 -> q1\n",
      "End: final state = q1. Accepted: False\n",
      "\n"
     ]
    },
    {
     "data": {
      "text/plain": [
       "False"
      ]
     },
     "execution_count": 6,
     "metadata": {},
     "output_type": "execute_result"
    }
   ],
   "source": [
    "print(\"Testing 'bbab':\")\n",
    "run_da_dfa(even_a_machine, \"bbab\") # Expected: False"
   ]
  },
  {
   "cell_type": "markdown",
   "id": "1943060e-2bfa-4186-bb0b-4e0fab71b83e",
   "metadata": {},
   "source": [
    "**Data and Logic**     \n",
    "The `even_a_machine` dictionary is pure data.       \n",
    "The `run_da_dfa` function is pure logic.      \n",
    "This is a fundamental concept.        \n",
    "The same `run_dfa` function could run *any* DFA we define, as long as it follows the same dictionary structure.                "
   ]
  },
  {
   "cell_type": "markdown",
   "id": "0208b3e0-8da1-421f-a903-b3aec02a6219",
   "metadata": {},
   "source": [
    "**State**    \n",
    "The `current_state` variable is the machine's entire memory. It's a very limited memory, which is why it's a \"finite\" automaton. It only knows which state it's in; it doesn't remember the path it took to get there.                "
   ]
  },
  {
   "cell_type": "markdown",
   "id": "fab3e99d-fe62-4674-8f56-79de04cbc4e9",
   "metadata": {},
   "source": [
    "**Determinism**      \n",
    "Look at the `transitions` dictionary.     \n",
    "For every state (`q0`, `q1`) and every symbol (`a`, `b`), there is **one and only one** resulting state specified.     \n",
    "This certainty is what makes it deterministic.                 "
   ]
  },
  {
   "cell_type": "markdown",
   "id": "c00a3a24-338d-4482-a01e-2577d27711f7",
   "metadata": {},
   "source": [
    "#### Example 02: **accepts strings ending in '1'**    \n",
    "\n",
    "For the binary alphabet - \"0\" and \"1\", we need  \n",
    "a machine that *accepts* binary strings like \"001\", \"11\", and \"1\" but *rejects* \"10\", \"00\", and \"\"   \n",
    "\n"
   ]
  },
  {
   "cell_type": "markdown",
   "id": "8be8337e-a949-448d-be3b-519c410b1fdd",
   "metadata": {},
   "source": [
    "  * `q0`: The initial state. We are in this state if we haven't seen a '1' yet, or the last symbol seen was a '0'. This is a **reject** state.                \n",
    "  * `q1`: The state we are in if the most recent symbol was a '1'. This is an **accept** state.                "
   ]
  },
  {
   "cell_type": "markdown",
   "id": "7443ab56-361e-4ce4-81db-f7ca4958193b",
   "metadata": {},
   "source": [
    "```mermaid\n",
    "stateDiagram-v2\n",
    "    direction LR\n",
    "    [*] --> q0\n",
    "    q0 --> q0: 0\n",
    "    q0 --> q1: 1\n",
    "    q1 --> q0: 0\n",
    "    q1 --> q1: 1\n",
    "    q1: q1 (accept state)\n",
    "    q0: q0 (reject state)\n",
    "```"
   ]
  },
  {
   "cell_type": "code",
   "execution_count": 7,
   "id": "a28d5a7b-220e-4e70-9955-d960b6caf18b",
   "metadata": {},
   "outputs": [],
   "source": [
    "dfa_ends_with_1 = {                \n",
    "    \"states\": {\"q0\", \"q1\"},                \n",
    "    \"alphabet\": {\"0\", \"1\"},                \n",
    "    \"transitions\": {                \n",
    "        # From state q0: if we read a '0', we stay in q0. If '1', we go to q1.                \n",
    "        \"q0\": {\"0\": \"q0\", \"1\": \"q1\"},                \n",
    "        # From state q1: if we read a '0', we go back to q0. If '1', we stay in q1.                \n",
    "        \"q1\": {\"0\": \"q0\", \"1\": \"q1\"},                \n",
    "    },                \n",
    "    \"start_state\": \"q0\",                \n",
    "    \"accept_states\": {\"q1\"},                \n",
    "}                "
   ]
  },
  {
   "cell_type": "code",
   "execution_count": 8,
   "id": "26bb40e1-6842-44a0-bc9b-7697f1b7980d",
   "metadata": {},
   "outputs": [
    {
     "name": "stdout",
     "output_type": "stream",
     "text": [
      "Testing '101':\n",
      "Start: state = q0\n",
      "  Input '1': q0 -> q1\n",
      "  Input '0': q1 -> q0\n",
      "  Input '1': q0 -> q1\n",
      "End: final state = q1. Accepted: True\n",
      "\n"
     ]
    },
    {
     "data": {
      "text/plain": [
       "True"
      ]
     },
     "execution_count": 8,
     "metadata": {},
     "output_type": "execute_result"
    }
   ],
   "source": [
    "print(\"Testing '101':\")\n",
    "run_da_dfa(dfa_ends_with_1, \"101\")                "
   ]
  },
  {
   "cell_type": "code",
   "execution_count": 9,
   "id": "c9260ef7-b6a4-44a4-9678-2f231b0030d4",
   "metadata": {},
   "outputs": [
    {
     "name": "stdout",
     "output_type": "stream",
     "text": [
      "Testing '100':\n",
      "Start: state = q0\n",
      "  Input '1': q0 -> q1\n",
      "  Input '0': q1 -> q0\n",
      "  Input '0': q0 -> q0\n",
      "End: final state = q0. Accepted: False\n",
      "\n"
     ]
    },
    {
     "data": {
      "text/plain": [
       "False"
      ]
     },
     "execution_count": 9,
     "metadata": {},
     "output_type": "execute_result"
    }
   ],
   "source": [
    "print(\"Testing '100':\")\n",
    "run_da_dfa(dfa_ends_with_1, \"100\")"
   ]
  },
  {
   "cell_type": "markdown",
   "id": "a77fd5a5-db6a-4f00-8ada-e0a686af2574",
   "metadata": {},
   "source": [
    "#### Example 03: strings that **start with \"ab\"**  \n",
    "The alphabet is {'a', 'b'}."
   ]
  },
  {
   "cell_type": "markdown",
   "id": "e4382df7-8ab1-49eb-827b-dc701442f510",
   "metadata": {},
   "source": [
    "```mermaid\n",
    "stateDiagram-v2\n",
    "    direction LR\n",
    "    [*] --> q0 : Start\n",
    "    q0 --> q1: a\n",
    "    q0 --> q_dead: b\n",
    "    q1 --> q2: b\n",
    "    q1 --> q_dead: a\n",
    "    q2 --> q2: a\n",
    "    q2 --> q2: b\n",
    "    q_dead --> q_dead: a\n",
    "    q_dead --> q_dead: b\n",
    "    q2: Accept\n",
    "    q_dead: Reject\n",
    "```"
   ]
  },
  {
   "cell_type": "code",
   "execution_count": 10,
   "id": "ffdf55d6-82a5-4872-baae-40b26e9d9d89",
   "metadata": {},
   "outputs": [],
   "source": [
    "dfa_starts_with_ab = {                \n",
    "    \"states\": {\"q0\", \"q1\", \"q2\", \"q_dead\"},                \n",
    "    \"alphabet\": {\"a\", \"b\"},                \n",
    "    \"start_state\": \"q0\",                \n",
    "    \"accept_states\": {\"q2\"},                \n",
    "    \"transitions\": {                \n",
    "        \"q0\": {\"a\": \"q1\", \"b\": \"q_dead\"},         # Must start with 'a' - if 'a' is found at start, go to 'q1', where we check for 'b'                \n",
    "        \"q1\": {\"a\": \"q_dead\", \"b\": \"q2\"},         # Then must have 'b' - if 'b' is also found, go to 'q2' which is our 'accept_state'...                \n",
    "        \"q2\": {\"a\": \"q2\", \"b\": \"q2\"},             # It started with \"ab\", so accept                \n",
    "        \"q_dead\": {\"a\": \"q_dead\", \"b\": \"q_dead\"}, # Any other path fails                \n",
    "    },                \n",
    "}"
   ]
  },
  {
   "cell_type": "code",
   "execution_count": 11,
   "id": "8b9970a9-9c34-4c17-8d82-5617f729956e",
   "metadata": {},
   "outputs": [
    {
     "name": "stdout",
     "output_type": "stream",
     "text": [
      "Start: state = q0\n",
      "  Input 'a': q0 -> q1\n",
      "  Input 'b': q1 -> q2\n",
      "  Input 'b': q2 -> q2\n",
      "  Input 'a': q2 -> q2\n",
      "  Input 'b': q2 -> q2\n",
      "End: final state = q2. Accepted: True\n",
      "\n"
     ]
    },
    {
     "data": {
      "text/plain": [
       "True"
      ]
     },
     "execution_count": 11,
     "metadata": {},
     "output_type": "execute_result"
    }
   ],
   "source": [
    "run_da_dfa(dfa_starts_with_ab, \"abbab\") # Should accept"
   ]
  },
  {
   "cell_type": "code",
   "execution_count": 12,
   "id": "96d698c2-00dd-4ffa-ad7c-f56b485cd849",
   "metadata": {},
   "outputs": [
    {
     "name": "stdout",
     "output_type": "stream",
     "text": [
      "Start: state = q0\n",
      "  Input 'a': q0 -> q1\n",
      "  Input 'a': q1 -> q_dead\n",
      "  Input 'b': q_dead -> q_dead\n",
      "End: final state = q_dead. Accepted: False\n",
      "\n"
     ]
    },
    {
     "data": {
      "text/plain": [
       "False"
      ]
     },
     "execution_count": 12,
     "metadata": {},
     "output_type": "execute_result"
    }
   ],
   "source": [
    "run_da_dfa(dfa_starts_with_ab, \"aab\")   # Should reject"
   ]
  },
  {
   "cell_type": "markdown",
   "id": "4fc649eb-61db-457c-b8d9-fc9b3cad5f56",
   "metadata": {},
   "source": [
    "#### Example 04: strings of **exactly length 2**     \n",
    "    The alphabet is {'a', 'b'}."
   ]
  },
  {
   "cell_type": "markdown",
   "id": "8dea7180-0dc8-4f57-a037-b78f646417b9",
   "metadata": {},
   "source": [
    "```mermaid\n",
    "stateDiagram-v2\n",
    "    direction LR\n",
    "    [*] --> q0: Start\n",
    "    q0 --> q1: a\n",
    "    q0 --> q1: b\n",
    "    q1 --> q2: a\n",
    "    q1 --> q2: b\n",
    "    q2 --> q_dead: a\n",
    "    q2 --> q_dead: b\n",
    "    q_dead --> q_dead: a\n",
    "    q_dead --> q_dead: b\n",
    "    q2: Accept\n",
    "    q_dead: Reject\n",
    "```"
   ]
  },
  {
   "cell_type": "code",
   "execution_count": 13,
   "id": "8c791c44-f507-43f3-9221-7e527f878683",
   "metadata": {},
   "outputs": [],
   "source": [
    "dfa_len_2 = {                \n",
    "    \"states\": {\"q0\", \"q1\", \"q2\", \"q_dead\"},                \n",
    "    \"alphabet\": {\"a\", \"b\"},                \n",
    "    \"start_state\": \"q0\",                \n",
    "    \"accept_states\": {\"q2\"},                \n",
    "    \"transitions\": {                \n",
    "        \"q0\": {\"a\": \"q1\", \"b\": \"q1\"},           # First character                \n",
    "        \"q1\": {\"a\": \"q2\", \"b\": \"q2\"},           # Second character                \n",
    "        \"q2\": {\"a\": \"q_dead\", \"b\": \"q_dead\"},   # Third character (too long)                \n",
    "        \"q_dead\": {\"a\": \"q_dead\", \"b\": \"q_dead\"},                \n",
    "    },                \n",
    "}"
   ]
  },
  {
   "cell_type": "code",
   "execution_count": 14,
   "id": "ec043a0c-e424-4416-b0b5-74c394880643",
   "metadata": {},
   "outputs": [
    {
     "name": "stdout",
     "output_type": "stream",
     "text": [
      "Start: state = q0\n",
      "  Input 'a': q0 -> q1\n",
      "  Input 'b': q1 -> q2\n",
      "End: final state = q2. Accepted: True\n",
      "\n"
     ]
    },
    {
     "data": {
      "text/plain": [
       "True"
      ]
     },
     "execution_count": 14,
     "metadata": {},
     "output_type": "execute_result"
    }
   ],
   "source": [
    "run_da_dfa(dfa_len_2, \"ab\") # Should accept"
   ]
  },
  {
   "cell_type": "code",
   "execution_count": 15,
   "id": "5276e84f-03bc-406b-9862-5691a4936bcd",
   "metadata": {},
   "outputs": [
    {
     "name": "stdout",
     "output_type": "stream",
     "text": [
      "Start: state = q0\n",
      "  Input 'a': q0 -> q1\n",
      "End: final state = q1. Accepted: False\n",
      "\n"
     ]
    },
    {
     "data": {
      "text/plain": [
       "False"
      ]
     },
     "execution_count": 15,
     "metadata": {},
     "output_type": "execute_result"
    }
   ],
   "source": [
    "run_da_dfa(dfa_len_2, \"a\")  # Should reject"
   ]
  },
  {
   "cell_type": "markdown",
   "id": "22edd390-be99-4f8b-bfb1-9ee22dce8bcd",
   "metadata": {},
   "source": [
    "#### Example 05: strings with an **odd number of '1's**  \n",
    "\n",
    "The alphabet is {'1', '0'}."
   ]
  },
  {
   "cell_type": "markdown",
   "id": "7567b67e-8501-4919-bc2c-c54fa699abc9",
   "metadata": {},
   "source": [
    "```mermaid\n",
    "stateDiagram-v2\n",
    "    direction LR\n",
    "    [*] --> q_even: Start\n",
    "    q_even --> q_even: 0\n",
    "    q_even --> q_odd: 1\n",
    "    q_odd --> q_odd: 0\n",
    "    q_odd --> q_even: 1\n",
    "    q_odd: Accept\n",
    "```"
   ]
  },
  {
   "cell_type": "code",
   "execution_count": 16,
   "id": "84560342-5881-47ef-8861-e76ce148a5b0",
   "metadata": {},
   "outputs": [],
   "source": [
    "dfa_odd_ones = {                \n",
    "    \"states\": {\"q_even\", \"q_odd\"},                \n",
    "    \"alphabet\": {\"0\", \"1\"},                \n",
    "    \"start_state\": \"q_even\",                \n",
    "    \"accept_states\": {\"q_odd\"},                \n",
    "    \"transitions\": {                \n",
    "        \"q_even\": {\"0\": \"q_even\", \"1\": \"q_odd\"},                \n",
    "        \"q_odd\": {\"0\": \"q_odd\", \"1\": \"q_even\"},                \n",
    "    },                \n",
    "}"
   ]
  },
  {
   "cell_type": "code",
   "execution_count": 17,
   "id": "c2c1193e-92f4-41c0-8b45-cf7f5e36c5fd",
   "metadata": {},
   "outputs": [
    {
     "name": "stdout",
     "output_type": "stream",
     "text": [
      "Start: state = q_even\n",
      "  Input '0': q_even -> q_even\n",
      "  Input '1': q_even -> q_odd\n",
      "  Input '1': q_odd -> q_even\n",
      "  Input '0': q_even -> q_even\n",
      "  Input '1': q_even -> q_odd\n",
      "End: final state = q_odd. Accepted: True\n",
      "\n"
     ]
    },
    {
     "data": {
      "text/plain": [
       "True"
      ]
     },
     "execution_count": 17,
     "metadata": {},
     "output_type": "execute_result"
    }
   ],
   "source": [
    "run_da_dfa(dfa_odd_ones, \"01101\") # Should accept"
   ]
  },
  {
   "cell_type": "code",
   "execution_count": 18,
   "id": "6d7af520-eb8b-45aa-b591-46c9300e9c47",
   "metadata": {},
   "outputs": [
    {
     "name": "stdout",
     "output_type": "stream",
     "text": [
      "Start: state = q_even\n",
      "  Input '1': q_even -> q_odd\n",
      "  Input '1': q_odd -> q_even\n",
      "End: final state = q_even. Accepted: False\n",
      "\n"
     ]
    },
    {
     "data": {
      "text/plain": [
       "False"
      ]
     },
     "execution_count": 18,
     "metadata": {},
     "output_type": "execute_result"
    }
   ],
   "source": [
    "run_da_dfa(dfa_odd_ones, \"11\")    # Should reject"
   ]
  },
  {
   "cell_type": "markdown",
   "id": "681f9961-74f5-4a9f-92d8-5ef7f1761f09",
   "metadata": {},
   "source": [
    "#### Example 06: accepting binary numbers that are a **multiple of 3**     \n",
    "   \n",
    "This is both a bad example and a clever one.    \n",
    "Relies on how multiples of 3 look like in binary."
   ]
  },
  {
   "cell_type": "markdown",
   "id": "a6e5c73a-f9d5-4ecd-9786-056ac93e1602",
   "metadata": {},
   "source": [
    "```mermaid\n",
    "stateDiagram-v2\n",
    "    direction LR\n",
    "    [*] --> q0: Start\n",
    "    q0 --> q0: 0\n",
    "    q0 --> q1: 1\n",
    "    q1 --> q2: 0\n",
    "    q1 --> q0: 1\n",
    "    q2 --> q1: 0\n",
    "    q2 --> q2: 1\n",
    "    q0: Accept\n",
    "```"
   ]
  },
  {
   "cell_type": "code",
   "execution_count": 19,
   "id": "6433274e-36d5-4a91-9ebf-3e0c87887872",
   "metadata": {},
   "outputs": [],
   "source": [
    "dfa_multiple_of_3 = {                \n",
    "    \"states\": {\"q0\", \"q1\", \"q2\"},                \n",
    "    \"alphabet\": {\"0\", \"1\"},                \n",
    "    \"start_state\": \"q0\", # Remainder 0                \n",
    "    \"accept_states\": {\"q0\"},                \n",
    "    \"transitions\": {                \n",
    "        # If current value is `x`, reading '0' makes it `2x`. Reading '1' makes it `2x+1`.                \n",
    "        # All calculations are modulo 3.                \n",
    "        \"q0\": {\"0\": \"q0\", \"1\": \"q1\"}, # (2*0)%3=0, (2*0+1)%3=1                \n",
    "        \"q1\": {\"0\": \"q2\", \"1\": \"q0\"}, # (2*1)%3=2, (2*1+1)%3=0                \n",
    "        \"q2\": {\"0\": \"q1\", \"1\": \"q2\"}, # (2*2)%3=1, (2*2+1)%3=2                \n",
    "    },                \n",
    "}"
   ]
  },
  {
   "cell_type": "code",
   "execution_count": 20,
   "id": "4a47660e-974c-40a7-aacb-48e170a96b1b",
   "metadata": {},
   "outputs": [
    {
     "name": "stdout",
     "output_type": "stream",
     "text": [
      "Start: state = q0\n",
      "  Input '1': q0 -> q1\n",
      "  Input '1': q1 -> q0\n",
      "  Input '0': q0 -> q0\n",
      "End: final state = q0. Accepted: True\n",
      "\n"
     ]
    },
    {
     "data": {
      "text/plain": [
       "True"
      ]
     },
     "execution_count": 20,
     "metadata": {},
     "output_type": "execute_result"
    }
   ],
   "source": [
    "run_da_dfa(dfa_multiple_of_3, \"110\") # 6 in binary, should accept"
   ]
  },
  {
   "cell_type": "code",
   "execution_count": 21,
   "id": "05efd313-a81d-43c0-a53f-037ecf9729c3",
   "metadata": {},
   "outputs": [
    {
     "name": "stdout",
     "output_type": "stream",
     "text": [
      "Start: state = q0\n",
      "  Input '1': q0 -> q1\n",
      "  Input '0': q1 -> q2\n",
      "  Input '1': q2 -> q2\n",
      "End: final state = q2. Accepted: False\n",
      "\n"
     ]
    },
    {
     "data": {
      "text/plain": [
       "False"
      ]
     },
     "execution_count": 21,
     "metadata": {},
     "output_type": "execute_result"
    }
   ],
   "source": [
    "run_da_dfa(dfa_multiple_of_3, \"101\") # 5 in binary, should reject"
   ]
  },
  {
   "cell_type": "markdown",
   "id": "2f3c9172-6fa3-4c5e-91f8-00ef8c536893",
   "metadata": {},
   "source": [
    "#### Example 07: strings with **no consecutive 'a's**    "
   ]
  },
  {
   "cell_type": "markdown",
   "id": "a767715b-ae48-40fd-a24f-28153089cc6f",
   "metadata": {},
   "source": [
    "```mermaid\n",
    "stateDiagram-v2\n",
    "    direction LR\n",
    "    [*] --> q_start: Start\n",
    "    q_start --> q_saw_a: a\n",
    "    q_start --> q_start: b\n",
    "    q_saw_a --> q_dead: a\n",
    "    q_saw_a --> q_start: b\n",
    "    q_dead --> q_dead: a\n",
    "    q_dead --> q_dead: b\n",
    "    q_start: Accept\n",
    "    q_saw_a: Accept\n",
    "    q_dead: Reject\n",
    "\n",
    "```"
   ]
  },
  {
   "cell_type": "code",
   "execution_count": 22,
   "id": "04a89c96-4774-4527-bd33-a1ca220bcccf",
   "metadata": {},
   "outputs": [],
   "source": [
    "dfa_no_consecutive_as = {                \n",
    "    \"states\": {\"q_start\", \"q_saw_a\", \"q_dead\"},                \n",
    "    \"alphabet\": {\"a\", \"b\"},                \n",
    "    \"start_state\": \"q_start\",                \n",
    "    \"accept_states\": {\"q_start\", \"q_saw_a\"},                \n",
    "    \"transitions\": {                \n",
    "        \"q_start\": {\"a\": \"q_saw_a\", \"b\": \"q_start\"},                \n",
    "        \"q_saw_a\": {\"a\": \"q_dead\", \"b\": \"q_start\"},                \n",
    "        \"q_dead\": {\"a\": \"q_dead\", \"b\": \"q_dead\"},                \n",
    "    },                \n",
    "}"
   ]
  },
  {
   "cell_type": "code",
   "execution_count": 23,
   "id": "f0178417-769f-4dbd-b241-a0a8f992d405",
   "metadata": {},
   "outputs": [
    {
     "name": "stdout",
     "output_type": "stream",
     "text": [
      "Start: state = q_start\n",
      "  Input 'a': q_start -> q_saw_a\n",
      "  Input 'b': q_saw_a -> q_start\n",
      "  Input 'a': q_start -> q_saw_a\n",
      "  Input 'b': q_saw_a -> q_start\n",
      "  Input 'a': q_start -> q_saw_a\n",
      "End: final state = q_saw_a. Accepted: True\n",
      "\n"
     ]
    },
    {
     "data": {
      "text/plain": [
       "True"
      ]
     },
     "execution_count": 23,
     "metadata": {},
     "output_type": "execute_result"
    }
   ],
   "source": [
    "run_da_dfa(dfa_no_consecutive_as, \"ababa\") # Should accept"
   ]
  },
  {
   "cell_type": "code",
   "execution_count": 24,
   "id": "b5f52b52-b7fa-403e-a0e2-4d2c5a0405fe",
   "metadata": {},
   "outputs": [
    {
     "name": "stdout",
     "output_type": "stream",
     "text": [
      "Start: state = q_start\n",
      "  Input 'b': q_start -> q_start\n",
      "  Input 'a': q_start -> q_saw_a\n",
      "  Input 'b': q_saw_a -> q_start\n",
      "  Input 'a': q_start -> q_saw_a\n",
      "  Input 'b': q_saw_a -> q_start\n",
      "  Input 'a': q_start -> q_saw_a\n",
      "End: final state = q_saw_a. Accepted: True\n",
      "\n"
     ]
    },
    {
     "data": {
      "text/plain": [
       "True"
      ]
     },
     "execution_count": 24,
     "metadata": {},
     "output_type": "execute_result"
    }
   ],
   "source": [
    "run_da_dfa(dfa_no_consecutive_as, \"bababa\") # Should accept"
   ]
  },
  {
   "cell_type": "code",
   "execution_count": 25,
   "id": "1b16111b-8e88-4f12-b9c9-7f0b4c462776",
   "metadata": {},
   "outputs": [
    {
     "name": "stdout",
     "output_type": "stream",
     "text": [
      "Start: state = q_start\n",
      "  Input 'a': q_start -> q_saw_a\n",
      "  Input 'a': q_saw_a -> q_dead\n",
      "  Input 'b': q_dead -> q_dead\n",
      "End: final state = q_dead. Accepted: False\n",
      "\n"
     ]
    },
    {
     "data": {
      "text/plain": [
       "False"
      ]
     },
     "execution_count": 25,
     "metadata": {},
     "output_type": "execute_result"
    }
   ],
   "source": [
    "run_da_dfa(dfa_no_consecutive_as, \"aab\")  # Should reject"
   ]
  },
  {
   "cell_type": "code",
   "execution_count": 26,
   "id": "d737c0ac-420e-467d-a76c-16e5fec9f091",
   "metadata": {},
   "outputs": [
    {
     "name": "stdout",
     "output_type": "stream",
     "text": [
      "Start: state = q_start\n",
      "  Input 'b': q_start -> q_start\n",
      "  Input 'a': q_start -> q_saw_a\n",
      "  Input 'a': q_saw_a -> q_dead\n",
      "  Input 'b': q_dead -> q_dead\n",
      "End: final state = q_dead. Accepted: False\n",
      "\n"
     ]
    },
    {
     "data": {
      "text/plain": [
       "False"
      ]
     },
     "execution_count": 26,
     "metadata": {},
     "output_type": "execute_result"
    }
   ],
   "source": [
    "run_da_dfa(dfa_no_consecutive_as, \"baab\")  # Should reject"
   ]
  },
  {
   "cell_type": "markdown",
   "id": "d43a4a58-8892-4f23-bfd4-a10363f84fef",
   "metadata": {},
   "source": [
    "### [Nondeterministic Finite Automaton (NFA)](https://en.wikipedia.org/wiki/Nondeterministic_finite_automaton)           \n",
    "           \n",
    "An NFA is flexible.    \n",
    "It can have **multiple possible moves** from a single state on the same input symbol.  \n",
    "           "
   ]
  },
  {
   "cell_type": "markdown",
   "id": "76112a7d-a806-4730-b612-a34d0b2ca9c6",
   "metadata": {},
   "source": [
    "Two ways in which we break the DFA rules:  \n",
    "1.  **Multiple Paths:** From a state, an input symbol can lead to zero, one, or multiple states.           \n",
    "2.  **$\\epsilon$-transitions (Epsilon-moves):** Fancy way of saying an NFA can change its state *without* consuming an input symbol.  \n",
    "        * This is a \"free\" move, compare that with DFA - where we can only move to another state (or stay in the same one) based on the next input symbol.           \n",
    "       "
   ]
  },
  {
   "cell_type": "markdown",
   "id": "e84614ed-1709-4543-9b97-f2da3e126c3f",
   "metadata": {},
   "source": [
    "The NFA accepts an input string if **at least one** of the possible paths ends in an accept state.           \n",
    "           "
   ]
  },
  {
   "cell_type": "markdown",
   "id": "4308bdb7-f222-4f77-9046-6457e6a1fd31",
   "metadata": {},
   "source": [
    "*\n",
    "##### *Formally*\n",
    "Look, this is just me trying to look smart, ignore this bit please, I've got to find a better way to express this stuff...  \n",
    "  \n",
    "The formal definition is almost the same, but the transition function is different:           \n",
    "           \n",
    "  * $\\delta$: The transition function, $\\delta: Q \\times (\\Sigma \\cup {\\epsilon}) \\to \\mathcal{P}(Q)$.\n",
    "      * (Given a state and a symbol (either symbol or $\\epsilon$), it returns a *set* of possible next states).\n",
    "      * $\\mathcal{P}(Q)$ is the power set of $Q$.           \n",
    "*           "
   ]
  },
  {
   "cell_type": "markdown",
   "id": "b2400ccb-783c-4981-a9e3-5ae5d974c8e6",
   "metadata": {},
   "source": [
    "NFAs are often much simpler and smaller than their equivalent DFAs.    \n",
    "I think of these as 'higher order' than DFAs, so you can write in NFA, let it compile to a DFA etc.  \n",
    "  "
   ]
  },
  {
   "cell_type": "markdown",
   "id": "84b6fde9-5c36-4642-a232-961d92cf2af1",
   "metadata": {},
   "source": [
    "NFAs easy to build from regular expressions, which is where Thompson's Algorithm comes in.           \n",
    " "
   ]
  },
  {
   "cell_type": "markdown",
   "id": "24f67e62-6a6d-403b-a6d6-8f4f99596f7b",
   "metadata": {},
   "source": [
    "#### The *trick* for a NFA is: an NFA accepts a string if **any one** of the possible paths it could take ends in an accept state."
   ]
  },
  {
   "cell_type": "markdown",
   "id": "28f1432b-108b-45c9-80a5-970c9c13f675",
   "metadata": {},
   "source": [
    "#### NFA State Machine **Execution Engine**  \n",
    "\n",
    "Like the DFA one, `Engine` here is also big word for a simple function.   \n",
    "To review, our *engine* expects a dictionary of the following format and cycles through any input string to `execute`...   \n",
    "```Python\n",
    "nfa = {\n",
    "    \"states\":{},         # dict of states - \"state_name\"\n",
    "    \"alphabet\":{},       # dict of alphabets - \"alphabet\"\n",
    "    \"transitions\":{},    # dict of transitions - {\"state_name\": {\"input_alphabet\":\"next_state\", \"input_alphabet\":\"next_state\"...}, ...}\n",
    "    \"start_state\":\"\",    # string - the \"state_name\" of the start state\n",
    "    \"accept_states\":{}   # dict of accept states\n",
    "}\n",
    "```"
   ]
  },
  {
   "cell_type": "code",
   "execution_count": 27,
   "id": "651b8042-20b1-4128-a65e-761d81d80b21",
   "metadata": {},
   "outputs": [],
   "source": [
    "# The engine must now track a SET of current states.\n",
    "def run_da_nfa(machine, input_string):\n",
    "    # Start with a set containing only the start state.\n",
    "    current_states = {machine[\"start_state\"]}\n",
    "    print(f\"Input: '{input_string}'\")\n",
    "    print(f\"  Start at states {current_states}\")\n",
    "\n",
    "    # Process each symbol.\n",
    "    for symbol in input_string:\n",
    "        next_states = set()\n",
    "        # Find all possible next states from all current states.\n",
    "        for state in current_states:\n",
    "            # .get(state, {}) handles states with no outgoing transitions.\n",
    "            # .get(symbol, set()) handles states that don't transition on this symbol.\n",
    "            found_states = machine[\"transitions\"].get(state, {}).get(symbol, set())\n",
    "            next_states.update(found_states)\n",
    "        current_states = next_states\n",
    "        print(f\"Read '{symbol}', new states are {current_states}\")\n",
    "    \n",
    "    # Check if the intersection of final states and accept states is non-empty.\n",
    "    if current_states & machine[\"accept_states\"]:\n",
    "        print(\"Finished with at least one path in an accept state. ACCEPTED.\")\n",
    "        return True\n",
    "    else:\n",
    "        print(\"Finished with no paths in an accept state. REJECTED.\")\n",
    "        return False"
   ]
  },
  {
   "cell_type": "markdown",
   "id": "76bff8be-1fdd-464c-b7fe-8b1c9d8432b7",
   "metadata": {},
   "source": [
    "The above is a direct comparision to our DFA engine, but we'll need another that supports the 'epsilon' moves - where the engine can move to another state without an input.  \n",
    "Let's build that too.  \n",
    "\n",
    "Set of all states reachable by free ($\\epsilon$) moves is called the **epsilon $\\epsilon$ closure**"
   ]
  },
  {
   "cell_type": "code",
   "execution_count": 28,
   "id": "0da50cbe-aea4-4e9b-b751-e4c1a22e59d8",
   "metadata": {},
   "outputs": [],
   "source": [
    "# A helper function to find all states reachable from a set of states via epsilon moves.\n",
    "# \n",
    "def get_epsilon_closure(states, transitions):\n",
    "    closure = set(states)\n",
    "    stack = list(states)\n",
    "    while stack:\n",
    "        state = stack.pop()\n",
    "        # Find all states reachable from the current state on an epsilon move.\n",
    "        epsilon_states = transitions.get(state, {}).get(\"ε\", set())\n",
    "        for s in epsilon_states:\n",
    "            if s not in closure:\n",
    "                closure.add(s)\n",
    "                stack.append(s)\n",
    "    return closure"
   ]
  },
  {
   "cell_type": "code",
   "execution_count": 29,
   "id": "d5a2e404-b040-44f9-8765-f6203c6f4da3",
   "metadata": {},
   "outputs": [],
   "source": [
    "# A NFA engine that handles epsilon transitions.\n",
    "def run_da_nfa_with_epsilon(machine, input_string):\n",
    "    # The initial states are the closure of the start state.\n",
    "    current_states = get_epsilon_closure({machine[\"start_state\"]}, machine[\"transitions\"])\n",
    "    print(f\"Input: '{input_string}'\")\n",
    "    print(f\"  Start states (after ε-closure): {current_states}\")\n",
    "    \n",
    "    for symbol in input_string:\n",
    "        next_states_after_symbol = set()\n",
    "        for state in current_states:\n",
    "            # Find where the actual symbol takes us.\n",
    "            found_states = machine[\"transitions\"].get(state, {}).get(symbol, set())\n",
    "            next_states_after_symbol.update(found_states)\n",
    "        \n",
    "        # The new current states are the epsilon closure of where the symbol took us.\n",
    "        current_states = get_epsilon_closure(next_states_after_symbol, machine[\"transitions\"])\n",
    "        print(f\"  Read '{symbol}', new states (after ε-closure) are {current_states}\")\n",
    "\n",
    "    if current_states & machine[\"accept_states\"]:\n",
    "        print(\"  Finished with at least one path in an accept state. ACCEPTED\")\n",
    "        return True\n",
    "    else:\n",
    "        print(\"  Finished with no paths in an accept state. REJECTED\")\n",
    "        return False"
   ]
  },
  {
   "cell_type": "markdown",
   "id": "fe67c296-3f01-4669-9670-64f4dabed7e4",
   "metadata": {},
   "source": [
    "#### Example 01: An NFA that accepts strings containing \"101\"\n",
    "\n",
    "This is tricky for a DFA but intuitive for an NFA.   \n",
    "The NFA can \"guess\" when the \"101\" substring starts.\n",
    "\n",
    "  * `q0`: Start state. The machine waits here, looking for the start of the pattern.\n",
    "  * `q1`: \"I might have just seen the first '1' of '101'\".\n",
    "  * `q2`: \"I might have just seen '10'\".\n",
    "  * `q3`: \"I have seen '101'\". This is the **accept** state."
   ]
  },
  {
   "cell_type": "code",
   "execution_count": 30,
   "id": "7e5719b7-5388-45d3-93c3-dcfd7533d0e2",
   "metadata": {},
   "outputs": [],
   "source": [
    "# The transition values are now sets of states.\n",
    "nfa_contains_101 = {\n",
    "    \"states\": {\"q0\", \"q1\", \"q2\", \"q3\"},\n",
    "    \"alphabet\": {\"0\", \"1\"},\n",
    "    \"transitions\": {\n",
    "        # Transitions for q0, q1, and q2 are unchanged.\n",
    "        \"q0\": {\"0\": {\"q0\"}, \"1\": {\"q0\", \"q1\"}}, # reading the first '1', the machine is in both states `q0` and `q1` simultaneously, exploring both possibilities.\n",
    "        \"q1\": {\"0\": {\"q2\"}},\n",
    "        \"q2\": {\"1\": {\"q3\"}},\n",
    "        # The accept state now loops on any symbol.\n",
    "        # This ensures that once \"101\" is found, the machine stays in an accept state.\n",
    "        \"q3\": {\"0\": {\"q3\"}, \"1\": {\"q3\"}}, \n",
    "    },\n",
    "    \"start_state\": \"q0\",\n",
    "    \"accept_states\": {\"q3\"},\n",
    "}"
   ]
  },
  {
   "cell_type": "code",
   "execution_count": 31,
   "id": "6cfe9070-310c-4475-aa55-304ac23a312c",
   "metadata": {},
   "outputs": [
    {
     "name": "stdout",
     "output_type": "stream",
     "text": [
      "Input: '01010'\n",
      "  Start at states {'q0'}\n",
      "Read '0', new states are {'q0'}\n",
      "Read '1', new states are {'q1', 'q0'}\n",
      "Read '0', new states are {'q0', 'q2'}\n",
      "Read '1', new states are {'q3', 'q1', 'q0'}\n",
      "Read '0', new states are {'q3', 'q0', 'q2'}\n",
      "Finished with at least one path in an accept state. ACCEPTED.\n"
     ]
    },
    {
     "data": {
      "text/plain": [
       "True"
      ]
     },
     "execution_count": 31,
     "metadata": {},
     "output_type": "execute_result"
    }
   ],
   "source": [
    "run_da_nfa(nfa_contains_101, \"01010\")"
   ]
  },
  {
   "cell_type": "code",
   "execution_count": 32,
   "id": "24918dbb-6892-4eb9-8682-254bf956692e",
   "metadata": {},
   "outputs": [
    {
     "name": "stdout",
     "output_type": "stream",
     "text": [
      "Input: '01001'\n",
      "  Start at states {'q0'}\n",
      "Read '0', new states are {'q0'}\n",
      "Read '1', new states are {'q1', 'q0'}\n",
      "Read '0', new states are {'q0', 'q2'}\n",
      "Read '0', new states are {'q0'}\n",
      "Read '1', new states are {'q1', 'q0'}\n",
      "Finished with no paths in an accept state. REJECTED.\n"
     ]
    },
    {
     "data": {
      "text/plain": [
       "False"
      ]
     },
     "execution_count": 32,
     "metadata": {},
     "output_type": "execute_result"
    }
   ],
   "source": [
    "run_da_nfa(nfa_contains_101, \"01001\")"
   ]
  },
  {
   "cell_type": "markdown",
   "id": "35fd08f5-2acf-48c0-9e80-0899e308a45e",
   "metadata": {},
   "source": [
    "#### Example 02: An NFA with Epsilon ($\\epsilon$) Moves\n",
    "\n",
    "Let's model `a*b*` (any number of 'a's followed by any number of 'b's).   \n",
    "Epsilon moves make this easy by \"gluing\" an 'a'-looping machine to a 'b'-looping machine.\n"
   ]
  },
  {
   "cell_type": "code",
   "execution_count": 33,
   "id": "2dffe458-a034-4f36-9385-4698e8cb4568",
   "metadata": {},
   "outputs": [],
   "source": [
    "nfa_a_star_b_star = {\n",
    "    \"states\": {\"q0\", \"q1\", \"q2\", \"q3\"},\n",
    "    \"alphabet\": {\"a\", \"b\"},\n",
    "    \"transitions\": {\n",
    "        \"q0\": {\"ε\": {\"q1\", \"q2\"}}, # Start by choosing to match a's or b's\n",
    "        \"q1\": {\"a\": {\"q1\"}, \"ε\": {\"q2\"}}, # Match a's, then optionally move to b's\n",
    "        \"q2\": {\"b\": {\"q2\"}, \"ε\": {\"q3\"}}, # Match b's, then optionally finish\n",
    "    },\n",
    "    \"start_state\": \"q0\",\n",
    "    \"accept_states\": {\"q3\"},\n",
    "}"
   ]
  },
  {
   "cell_type": "code",
   "execution_count": 34,
   "id": "4014228b-2598-4861-b993-500f288f7fa6",
   "metadata": {},
   "outputs": [
    {
     "name": "stdout",
     "output_type": "stream",
     "text": [
      "Input: 'aaabb'\n",
      "  Start states (after ε-closure): {'q3', 'q1', 'q0', 'q2'}\n",
      "  Read 'a', new states (after ε-closure) are {'q3', 'q1', 'q2'}\n",
      "  Read 'a', new states (after ε-closure) are {'q3', 'q1', 'q2'}\n",
      "  Read 'a', new states (after ε-closure) are {'q3', 'q1', 'q2'}\n",
      "  Read 'b', new states (after ε-closure) are {'q3', 'q2'}\n",
      "  Read 'b', new states (after ε-closure) are {'q3', 'q2'}\n",
      "  Finished with at least one path in an accept state. ACCEPTED\n"
     ]
    },
    {
     "data": {
      "text/plain": [
       "True"
      ]
     },
     "execution_count": 34,
     "metadata": {},
     "output_type": "execute_result"
    }
   ],
   "source": [
    "# --- Testing our epsilon-NFA ---\n",
    "run_da_nfa_with_epsilon(nfa_a_star_b_star, \"aaabb\")"
   ]
  },
  {
   "cell_type": "code",
   "execution_count": 35,
   "id": "090ad004-efa1-41a6-bdcf-13fef55835d9",
   "metadata": {},
   "outputs": [
    {
     "name": "stdout",
     "output_type": "stream",
     "text": [
      "Input: 'aab_ba'\n",
      "  Start states (after ε-closure): {'q3', 'q1', 'q0', 'q2'}\n",
      "  Read 'a', new states (after ε-closure) are {'q3', 'q1', 'q2'}\n",
      "  Read 'a', new states (after ε-closure) are {'q3', 'q1', 'q2'}\n",
      "  Read 'b', new states (after ε-closure) are {'q3', 'q2'}\n",
      "  Read '_', new states (after ε-closure) are set()\n",
      "  Read 'b', new states (after ε-closure) are set()\n",
      "  Read 'a', new states (after ε-closure) are set()\n",
      "  Finished with no paths in an accept state. REJECTED\n"
     ]
    },
    {
     "data": {
      "text/plain": [
       "False"
      ]
     },
     "execution_count": 35,
     "metadata": {},
     "output_type": "execute_result"
    }
   ],
   "source": [
    "run_da_nfa_with_epsilon(nfa_a_star_b_star, \"aab_ba\") # This will fail on the invalid '_'\n"
   ]
  },
  {
   "cell_type": "markdown",
   "id": "a350b4fc-8bfa-466d-8c2a-06492fe8be1e",
   "metadata": {},
   "source": [
    "#### Example 03: NFA accepting strings that **end in \"01\"**  \n",
    "The NFA \"guesses\" when the final \"01\" sequence begins.   \n",
    "It can stay in `q0` or jump to `q1` upon seeing a '0'."
   ]
  },
  {
   "cell_type": "code",
   "execution_count": 36,
   "id": "9fe4f203-a1d9-4c43-999b-87dedbf119bb",
   "metadata": {},
   "outputs": [],
   "source": [
    "nfa_ends_in_01 = {\n",
    "    \"states\": {\"q0\", \"q1\", \"q2\"},\n",
    "    \"alphabet\": {\"0\", \"1\"},\n",
    "    \"start_state\": \"q0\",\n",
    "    \"accept_states\": {\"q2\"},\n",
    "    \"transitions\": {\n",
    "        \"q0\": {\"0\": {\"q0\", \"q1\"}, \"1\": {\"q0\"}}, # Stay or start guessing\n",
    "        \"q1\": {\"1\": {\"q2\"}},                    # Must be followed by '1'\n",
    "        \"q2\": {},\n",
    "    },\n",
    "}"
   ]
  },
  {
   "cell_type": "code",
   "execution_count": 37,
   "id": "19fc8490-fb08-4783-8695-f046ecef58eb",
   "metadata": {},
   "outputs": [
    {
     "name": "stdout",
     "output_type": "stream",
     "text": [
      "Input: '1101'\n",
      "  Start states (after ε-closure): {'q0'}\n",
      "  Read '1', new states (after ε-closure) are {'q0'}\n",
      "  Read '1', new states (after ε-closure) are {'q0'}\n",
      "  Read '0', new states (after ε-closure) are {'q1', 'q0'}\n",
      "  Read '1', new states (after ε-closure) are {'q0', 'q2'}\n",
      "  Finished with at least one path in an accept state. ACCEPTED\n"
     ]
    },
    {
     "data": {
      "text/plain": [
       "True"
      ]
     },
     "execution_count": 37,
     "metadata": {},
     "output_type": "execute_result"
    }
   ],
   "source": [
    "run_da_nfa_with_epsilon(nfa_ends_in_01, \"1101\") # Should accept"
   ]
  },
  {
   "cell_type": "code",
   "execution_count": 38,
   "id": "fa7d381d-ab27-44b8-b1cf-733fcdf3b865",
   "metadata": {},
   "outputs": [
    {
     "name": "stdout",
     "output_type": "stream",
     "text": [
      "Input: '010'\n",
      "  Start states (after ε-closure): {'q0'}\n",
      "  Read '0', new states (after ε-closure) are {'q1', 'q0'}\n",
      "  Read '1', new states (after ε-closure) are {'q0', 'q2'}\n",
      "  Read '0', new states (after ε-closure) are {'q1', 'q0'}\n",
      "  Finished with no paths in an accept state. REJECTED\n"
     ]
    },
    {
     "data": {
      "text/plain": [
       "False"
      ]
     },
     "execution_count": 38,
     "metadata": {},
     "output_type": "execute_result"
    }
   ],
   "source": [
    "run_da_nfa_with_epsilon(nfa_ends_in_01, \"010\")  # Should reject"
   ]
  },
  {
   "cell_type": "markdown",
   "id": "5e22a4ff-bfa9-4d07-8ee2-10467b7d1304",
   "metadata": {},
   "source": [
    "#### Example 04: NFA where the **third-to-last symbol is 'a'**\n",
    "\n",
    "This is famously difficult for a DFA but easy for an NFA.   \n",
    "The machine guesses it has seen the third-to-last 'a' and then just counts two more symbols."
   ]
  },
  {
   "cell_type": "code",
   "execution_count": 39,
   "id": "8a38f7be-ce38-419a-a63f-0570c8076e1b",
   "metadata": {},
   "outputs": [],
   "source": [
    "nfa_third_last_is_a = {\n",
    "    \"states\": {\"q0\", \"q1\", \"q2\", \"q3\"},\n",
    "    \"alphabet\": {\"a\", \"b\"},\n",
    "    \"start_state\": \"q0\",\n",
    "    \"accept_states\": {\"q3\"},\n",
    "    \"transitions\": {\n",
    "        \"q0\": {\"a\": {\"q0\", \"q1\"}, \"b\": {\"q0\"}},\n",
    "        \"q1\": {\"a\": {\"q2\"}, \"b\": {\"q2\"}}, # Count 1 after 'a'\n",
    "        \"q2\": {\"a\": {\"q3\"}, \"b\": {\"q3\"}}, # Count 2 after 'a'\n",
    "        \"q3\": {},\n",
    "    },\n",
    "}"
   ]
  },
  {
   "cell_type": "code",
   "execution_count": 40,
   "id": "679332ee-e56b-40c8-b15a-02bb625b8a00",
   "metadata": {},
   "outputs": [
    {
     "name": "stdout",
     "output_type": "stream",
     "text": [
      "Input: 'baba'\n",
      "  Start states (after ε-closure): {'q0'}\n",
      "  Read 'b', new states (after ε-closure) are {'q0'}\n",
      "  Read 'a', new states (after ε-closure) are {'q1', 'q0'}\n",
      "  Read 'b', new states (after ε-closure) are {'q0', 'q2'}\n",
      "  Read 'a', new states (after ε-closure) are {'q3', 'q1', 'q0'}\n",
      "  Finished with at least one path in an accept state. ACCEPTED\n"
     ]
    },
    {
     "data": {
      "text/plain": [
       "True"
      ]
     },
     "execution_count": 40,
     "metadata": {},
     "output_type": "execute_result"
    }
   ],
   "source": [
    "run_da_nfa_with_epsilon(nfa_third_last_is_a, \"baba\") # Should accept"
   ]
  },
  {
   "cell_type": "code",
   "execution_count": 41,
   "id": "dcf77114-4d3e-4305-a60e-9aba612d3efa",
   "metadata": {},
   "outputs": [
    {
     "name": "stdout",
     "output_type": "stream",
     "text": [
      "Input: 'bbba'\n",
      "  Start states (after ε-closure): {'q0'}\n",
      "  Read 'b', new states (after ε-closure) are {'q0'}\n",
      "  Read 'b', new states (after ε-closure) are {'q0'}\n",
      "  Read 'b', new states (after ε-closure) are {'q0'}\n",
      "  Read 'a', new states (after ε-closure) are {'q1', 'q0'}\n",
      "  Finished with no paths in an accept state. REJECTED\n"
     ]
    },
    {
     "data": {
      "text/plain": [
       "False"
      ]
     },
     "execution_count": 41,
     "metadata": {},
     "output_type": "execute_result"
    }
   ],
   "source": [
    "run_da_nfa_with_epsilon(nfa_third_last_is_a, \"bbba\") # Should reject"
   ]
  },
  {
   "cell_type": "markdown",
   "id": "89065eb9-be22-4a71-9a2d-2dd97d83f0fb",
   "metadata": {},
   "source": [
    "#### Example 05: NFA accepting strings that **start with 'a' OR end with 'b'**  \n",
    "  \n",
    "This NFA uses an ε-move ($\\epsilon$ - move) from the start to branch into two independent sub-machines: one that checks for a starting 'a' and one that checks for an ending 'b'."
   ]
  },
  {
   "cell_type": "code",
   "execution_count": 42,
   "id": "d194c10b-6b29-40e9-8eff-7b4afd9a3d0d",
   "metadata": {},
   "outputs": [],
   "source": [
    "# NFA for \"starts with 'a' OR ends with 'b'\"\n",
    "nfa_starts_a_or_ends_b = {\n",
    "    \"states\": {\"q0\", \"q_a1\", \"q_a2\", \"q_b1\", \"q_b2\"},\n",
    "    \"alphabet\": {\"a\", \"b\", \"x\"}, # Added 'x' to handle test cases\n",
    "    \"start_state\": \"q0\",\n",
    "    \"accept_states\": {\"q_a2\", \"q_b2\"},\n",
    "    \"transitions\": {\n",
    "        # Initial branch into two independent machines.\n",
    "        \"q0\": {\"ε\": {\"q_a1\", \"q_b1\"}},\n",
    "\n",
    "        # --- Sub-machine 1: Starts with 'a' ---\n",
    "        # Must see 'a' first.\n",
    "        \"q_a1\": {\"a\": {\"q_a2\"}}, \n",
    "        # Once it has started with 'a', it accepts. This state consumes the rest of the string.\n",
    "        \"q_a2\": {\"a\": {\"q_a2\"}, \"b\": {\"q_a2\"}, \"x\": {\"q_a2\"}},\n",
    "\n",
    "        # --- Sub-machine 2: Ends with 'b' ---\n",
    "        # This state consumes any character.\n",
    "        \"q_b1\": {\"a\": {\"q_b1\"}, \"x\": {\"q_b1\"}, \n",
    "                 # On 'b', it can either stay or guess this is the end.\n",
    "                 \"b\": {\"q_b1\", \"q_b2\"}},\n",
    "        # This is a temporary accept state. If more input arrives, the path must die.\n",
    "        \"q_b2\": {},\n",
    "    },\n",
    "}"
   ]
  },
  {
   "cell_type": "code",
   "execution_count": 43,
   "id": "0c83b79e-b191-4833-9c75-cd6bf5885e28",
   "metadata": {},
   "outputs": [
    {
     "name": "stdout",
     "output_type": "stream",
     "text": [
      "Input: 'ax'\n",
      "  Start states (after ε-closure): {'q_b1', 'q0', 'q_a1'}\n",
      "  Read 'a', new states (after ε-closure) are {'q_b1', 'q_a2'}\n",
      "  Read 'x', new states (after ε-closure) are {'q_b1', 'q_a2'}\n",
      "  Finished with at least one path in an accept state. ACCEPTED\n"
     ]
    },
    {
     "data": {
      "text/plain": [
       "True"
      ]
     },
     "execution_count": 43,
     "metadata": {},
     "output_type": "execute_result"
    }
   ],
   "source": [
    "run_da_nfa_with_epsilon(nfa_starts_a_or_ends_b, \"ax\") # Should accept"
   ]
  },
  {
   "cell_type": "code",
   "execution_count": 44,
   "id": "ccc580fc-88a6-43c7-964d-73cb1194289a",
   "metadata": {},
   "outputs": [
    {
     "name": "stdout",
     "output_type": "stream",
     "text": [
      "Input: 'xa'\n",
      "  Start states (after ε-closure): {'q_b1', 'q0', 'q_a1'}\n",
      "  Read 'x', new states (after ε-closure) are {'q_b1'}\n",
      "  Read 'a', new states (after ε-closure) are {'q_b1'}\n",
      "  Finished with no paths in an accept state. REJECTED\n"
     ]
    },
    {
     "data": {
      "text/plain": [
       "False"
      ]
     },
     "execution_count": 44,
     "metadata": {},
     "output_type": "execute_result"
    }
   ],
   "source": [
    "run_da_nfa_with_epsilon(nfa_starts_a_or_ends_b, \"xa\") # Should reject"
   ]
  },
  {
   "cell_type": "code",
   "execution_count": 45,
   "id": "3d04ce89-86d4-4ca9-ab2a-040287576559",
   "metadata": {},
   "outputs": [
    {
     "name": "stdout",
     "output_type": "stream",
     "text": [
      "Input: 'xb'\n",
      "  Start states (after ε-closure): {'q_b1', 'q0', 'q_a1'}\n",
      "  Read 'x', new states (after ε-closure) are {'q_b1'}\n",
      "  Read 'b', new states (after ε-closure) are {'q_b1', 'q_b2'}\n",
      "  Finished with at least one path in an accept state. ACCEPTED\n"
     ]
    },
    {
     "data": {
      "text/plain": [
       "True"
      ]
     },
     "execution_count": 45,
     "metadata": {},
     "output_type": "execute_result"
    }
   ],
   "source": [
    "run_da_nfa_with_epsilon(nfa_starts_a_or_ends_b, \"xb\") # Should accept"
   ]
  },
  {
   "cell_type": "code",
   "execution_count": 46,
   "id": "f8b66e04-c850-41a1-b320-dd2e3ea93b00",
   "metadata": {},
   "outputs": [
    {
     "name": "stdout",
     "output_type": "stream",
     "text": [
      "Input: 'bx'\n",
      "  Start states (after ε-closure): {'q_b1', 'q0', 'q_a1'}\n",
      "  Read 'b', new states (after ε-closure) are {'q_b1', 'q_b2'}\n",
      "  Read 'x', new states (after ε-closure) are {'q_b1'}\n",
      "  Finished with no paths in an accept state. REJECTED\n"
     ]
    },
    {
     "data": {
      "text/plain": [
       "False"
      ]
     },
     "execution_count": 46,
     "metadata": {},
     "output_type": "execute_result"
    }
   ],
   "source": [
    "run_da_nfa_with_epsilon(nfa_starts_a_or_ends_b, \"bx\") # Should reject"
   ]
  },
  {
   "cell_type": "code",
   "execution_count": 47,
   "id": "2d66208a-3a50-4360-ace5-de38698c9556",
   "metadata": {},
   "outputs": [
    {
     "name": "stdout",
     "output_type": "stream",
     "text": [
      "Input: 'abba'\n",
      "  Start states (after ε-closure): {'q_b1', 'q0', 'q_a1'}\n",
      "  Read 'a', new states (after ε-closure) are {'q_b1', 'q_a2'}\n",
      "  Read 'b', new states (after ε-closure) are {'q_b1', 'q_b2', 'q_a2'}\n",
      "  Read 'b', new states (after ε-closure) are {'q_b1', 'q_b2', 'q_a2'}\n",
      "  Read 'a', new states (after ε-closure) are {'q_b1', 'q_a2'}\n",
      "  Finished with at least one path in an accept state. ACCEPTED\n"
     ]
    },
    {
     "data": {
      "text/plain": [
       "True"
      ]
     },
     "execution_count": 47,
     "metadata": {},
     "output_type": "execute_result"
    }
   ],
   "source": [
    "run_da_nfa_with_epsilon(nfa_starts_a_or_ends_b, \"abba\") # Should accept"
   ]
  },
  {
   "cell_type": "code",
   "execution_count": 48,
   "id": "244e2d91-fc1e-49da-9b8f-500d708e4285",
   "metadata": {},
   "outputs": [
    {
     "name": "stdout",
     "output_type": "stream",
     "text": [
      "Input: 'baba'\n",
      "  Start states (after ε-closure): {'q_b1', 'q0', 'q_a1'}\n",
      "  Read 'b', new states (after ε-closure) are {'q_b1', 'q_b2'}\n",
      "  Read 'a', new states (after ε-closure) are {'q_b1'}\n",
      "  Read 'b', new states (after ε-closure) are {'q_b1', 'q_b2'}\n",
      "  Read 'a', new states (after ε-closure) are {'q_b1'}\n",
      "  Finished with no paths in an accept state. REJECTED\n"
     ]
    },
    {
     "data": {
      "text/plain": [
       "False"
      ]
     },
     "execution_count": 48,
     "metadata": {},
     "output_type": "execute_result"
    }
   ],
   "source": [
    "run_da_nfa_with_epsilon(nfa_starts_a_or_ends_b, \"baba\") # Should reject"
   ]
  },
  {
   "cell_type": "code",
   "execution_count": 49,
   "id": "10038a45-cf2a-40d3-9c40-e4448f86a0cd",
   "metadata": {},
   "outputs": [
    {
     "name": "stdout",
     "output_type": "stream",
     "text": [
      "Input: 'aabb'\n",
      "  Start states (after ε-closure): {'q_b1', 'q0', 'q_a1'}\n",
      "  Read 'a', new states (after ε-closure) are {'q_b1', 'q_a2'}\n",
      "  Read 'a', new states (after ε-closure) are {'q_b1', 'q_a2'}\n",
      "  Read 'b', new states (after ε-closure) are {'q_b1', 'q_b2', 'q_a2'}\n",
      "  Read 'b', new states (after ε-closure) are {'q_b1', 'q_b2', 'q_a2'}\n",
      "  Finished with at least one path in an accept state. ACCEPTED\n"
     ]
    },
    {
     "data": {
      "text/plain": [
       "True"
      ]
     },
     "execution_count": 49,
     "metadata": {},
     "output_type": "execute_result"
    }
   ],
   "source": [
    "run_da_nfa_with_epsilon(nfa_starts_a_or_ends_b, \"aabb\") # Should accept"
   ]
  },
  {
   "cell_type": "code",
   "execution_count": 50,
   "id": "f0de046d-2fcd-4bdd-959d-9acb8ee095e1",
   "metadata": {},
   "outputs": [
    {
     "name": "stdout",
     "output_type": "stream",
     "text": [
      "Input: 'bbaa'\n",
      "  Start states (after ε-closure): {'q_b1', 'q0', 'q_a1'}\n",
      "  Read 'b', new states (after ε-closure) are {'q_b1', 'q_b2'}\n",
      "  Read 'b', new states (after ε-closure) are {'q_b1', 'q_b2'}\n",
      "  Read 'a', new states (after ε-closure) are {'q_b1'}\n",
      "  Read 'a', new states (after ε-closure) are {'q_b1'}\n",
      "  Finished with no paths in an accept state. REJECTED\n"
     ]
    },
    {
     "data": {
      "text/plain": [
       "False"
      ]
     },
     "execution_count": 50,
     "metadata": {},
     "output_type": "execute_result"
    }
   ],
   "source": [
    "run_da_nfa_with_epsilon(nfa_starts_a_or_ends_b, \"bbaa\") # Should reject"
   ]
  },
  {
   "cell_type": "markdown",
   "id": "e57d2605-c021-4e67-8204-48681975c0d3",
   "metadata": {},
   "source": [
    "#### Example 06: NFA accepting strings with an **optional \"ab\" substring** (`c(ab)?d`)\n",
    "\n",
    "This machine must see a 'c', can optionally see \"ab\", and must end with a 'd'.   \n",
    "The optional part is handled with an ε-move that bypasses the \"ab\" states."
   ]
  },
  {
   "cell_type": "code",
   "execution_count": 51,
   "id": "0714992e-8906-4f52-ae9e-f7dd46441772",
   "metadata": {},
   "outputs": [],
   "source": [
    "nfa_optional_ab = {\n",
    "    \"states\": {\"q0\", \"q1\", \"q2\", \"q3\", \"q4\"},\n",
    "    \"alphabet\": {\"a\", \"b\", \"c\", \"d\"},\n",
    "    \"start_state\": \"q0\",\n",
    "    \"accept_states\": {\"q4\"},\n",
    "    \"transitions\": {\n",
    "        \"q0\": {\"c\": {\"q1\"}},\n",
    "        \"q1\": {\"a\": {\"q2\"}, \"ε\": {\"q3\"}}, # Must see 'a' or skip\n",
    "        \"q2\": {\"b\": {\"q3\"}},\n",
    "        \"q3\": {\"d\": {\"q4\"}},\n",
    "        \"q4\": {},\n",
    "    },\n",
    "}"
   ]
  },
  {
   "cell_type": "code",
   "execution_count": 52,
   "id": "e16fc242-aa01-44d1-88cc-d7b9242d8a50",
   "metadata": {},
   "outputs": [
    {
     "name": "stdout",
     "output_type": "stream",
     "text": [
      "Input: 'cabd'\n",
      "  Start states (after ε-closure): {'q0'}\n",
      "  Read 'c', new states (after ε-closure) are {'q3', 'q1'}\n",
      "  Read 'a', new states (after ε-closure) are {'q2'}\n",
      "  Read 'b', new states (after ε-closure) are {'q3'}\n",
      "  Read 'd', new states (after ε-closure) are {'q4'}\n",
      "  Finished with at least one path in an accept state. ACCEPTED\n"
     ]
    },
    {
     "data": {
      "text/plain": [
       "True"
      ]
     },
     "execution_count": 52,
     "metadata": {},
     "output_type": "execute_result"
    }
   ],
   "source": [
    "run_da_nfa_with_epsilon(nfa_optional_ab, \"cabd\") # Should accept"
   ]
  },
  {
   "cell_type": "code",
   "execution_count": 53,
   "id": "8930bc9c-434b-4d79-b17e-b5703b1bf7e1",
   "metadata": {},
   "outputs": [
    {
     "name": "stdout",
     "output_type": "stream",
     "text": [
      "Input: 'cd'\n",
      "  Start states (after ε-closure): {'q0'}\n",
      "  Read 'c', new states (after ε-closure) are {'q3', 'q1'}\n",
      "  Read 'd', new states (after ε-closure) are {'q4'}\n",
      "  Finished with at least one path in an accept state. ACCEPTED\n"
     ]
    },
    {
     "data": {
      "text/plain": [
       "True"
      ]
     },
     "execution_count": 53,
     "metadata": {},
     "output_type": "execute_result"
    }
   ],
   "source": [
    "run_da_nfa_with_epsilon(nfa_optional_ab, \"cd\")   # Should accept"
   ]
  },
  {
   "cell_type": "code",
   "execution_count": 54,
   "id": "1a34f677-719a-4f39-88a7-6d8027d918a7",
   "metadata": {},
   "outputs": [
    {
     "name": "stdout",
     "output_type": "stream",
     "text": [
      "Input: 'cad'\n",
      "  Start states (after ε-closure): {'q0'}\n",
      "  Read 'c', new states (after ε-closure) are {'q3', 'q1'}\n",
      "  Read 'a', new states (after ε-closure) are {'q2'}\n",
      "  Read 'd', new states (after ε-closure) are set()\n",
      "  Finished with no paths in an accept state. REJECTED\n"
     ]
    },
    {
     "data": {
      "text/plain": [
       "False"
      ]
     },
     "execution_count": 54,
     "metadata": {},
     "output_type": "execute_result"
    }
   ],
   "source": [
    "run_da_nfa_with_epsilon(nfa_optional_ab, \"cad\")  # Should reject"
   ]
  },
  {
   "cell_type": "markdown",
   "id": "9ad09cb0-f3a3-4fc1-9669-b7734136ae5f",
   "metadata": {},
   "source": [
    "#### Example 07: NFA accepting strings containing either **\"aa\" or \"bb\"**\n",
    "\n",
    "This NFA branches from the start and loops, but upon seeing an 'a' or a 'b', it can jump to a path that checks for a consecutive identical character."
   ]
  },
  {
   "cell_type": "code",
   "execution_count": 55,
   "id": "183a4de4-0b05-4da6-a2a7-3d927abb1236",
   "metadata": {},
   "outputs": [],
   "source": [
    "nfa_aa_or_bb = {\n",
    "    \"states\": {\"q0\", \"q_a1\", \"q_a2\", \"q_b1\", \"q_b2\"},\n",
    "    \"alphabet\": {\"a\", \"b\"},\n",
    "    \"start_state\": \"q0\",\n",
    "    \"accept_states\": {\"q_a2\", \"q_b2\"},\n",
    "    \"transitions\": {\n",
    "        \"q0\": {\"a\": {\"q0\", \"q_a1\"}, \"b\": {\"q0\", \"q_b1\"}},\n",
    "        \"q_a1\": {\"a\": {\"q_a2\"}},\n",
    "        \"q_b1\": {\"b\": {\"q_b2\"}},\n",
    "        # Once accepted, stay accepted\n",
    "        \"q_a2\": {\"a\": {\"q_a2\"}, \"b\": {\"q_a2\"}},\n",
    "        \"q_b2\": {\"a\": {\"q_b2\"}, \"b\": {\"q_b2\"}},\n",
    "    },\n",
    "}"
   ]
  },
  {
   "cell_type": "code",
   "execution_count": 56,
   "id": "905af52d-98ce-4229-8f2d-c0f73157928b",
   "metadata": {},
   "outputs": [
    {
     "name": "stdout",
     "output_type": "stream",
     "text": [
      "Input: 'baa'\n",
      "  Start states (after ε-closure): {'q0'}\n",
      "  Read 'b', new states (after ε-closure) are {'q_b1', 'q0'}\n",
      "  Read 'a', new states (after ε-closure) are {'q0', 'q_a1'}\n",
      "  Read 'a', new states (after ε-closure) are {'q_a2', 'q0', 'q_a1'}\n",
      "  Finished with at least one path in an accept state. ACCEPTED\n"
     ]
    },
    {
     "data": {
      "text/plain": [
       "True"
      ]
     },
     "execution_count": 56,
     "metadata": {},
     "output_type": "execute_result"
    }
   ],
   "source": [
    "run_da_nfa_with_epsilon(nfa_aa_or_bb, \"baa\") # Should accept"
   ]
  },
  {
   "cell_type": "code",
   "execution_count": 57,
   "id": "e2ff8154-d503-425c-8ed1-4d97b1e5069d",
   "metadata": {},
   "outputs": [
    {
     "name": "stdout",
     "output_type": "stream",
     "text": [
      "Input: 'aba'\n",
      "  Start states (after ε-closure): {'q0'}\n",
      "  Read 'a', new states (after ε-closure) are {'q0', 'q_a1'}\n",
      "  Read 'b', new states (after ε-closure) are {'q_b1', 'q0'}\n",
      "  Read 'a', new states (after ε-closure) are {'q0', 'q_a1'}\n",
      "  Finished with no paths in an accept state. REJECTED\n"
     ]
    },
    {
     "data": {
      "text/plain": [
       "False"
      ]
     },
     "execution_count": 57,
     "metadata": {},
     "output_type": "execute_result"
    }
   ],
   "source": [
    "run_da_nfa_with_epsilon(nfa_aa_or_bb, \"aba\") # Should reject"
   ]
  },
  {
   "cell_type": "code",
   "execution_count": null,
   "id": "2f50d867-2b75-419e-82d6-16bdf1e9985e",
   "metadata": {},
   "outputs": [],
   "source": []
  }
 ],
 "metadata": {
  "kernelspec": {
   "display_name": "Python 3 (ipykernel)",
   "language": "python",
   "name": "python3"
  },
  "language_info": {
   "codemirror_mode": {
    "name": "ipython",
    "version": 3
   },
   "file_extension": ".py",
   "mimetype": "text/x-python",
   "name": "python",
   "nbconvert_exporter": "python",
   "pygments_lexer": "ipython3",
   "version": "3.11.7"
  }
 },
 "nbformat": 4,
 "nbformat_minor": 5
}
