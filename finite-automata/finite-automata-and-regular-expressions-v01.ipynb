{
 "cells": [
  {
   "cell_type": "markdown",
   "id": "b5507479-7cdc-4f7b-a144-a1f62fd818fe",
   "metadata": {},
   "source": [
    "# Building a RegEx engine by using Finite Automata based approach"
   ]
  },
  {
   "cell_type": "markdown",
   "id": "e06d976e-094d-45ab-a001-eff67b1797aa",
   "metadata": {},
   "source": [
    "# Finite Automata & Regular Expressions are just **Pattern Matching**      \n",
    "Regular expressions *describe* patterns in text.  \n",
    "Finite automata (DFAs and NFAs) are abstract machines that can *recognize* those patterns.       \n",
    "A finite automaton is, at its core, a graph. It has nodes (**states**) and directed edges (**transitions**).      \n",
    "Our goal is to write a Python program that can \"walk\" this graph based on an input string."
   ]
  },
  {
   "cell_type": "markdown",
   "id": "c29944a6-57a9-4818-8387-0cd11141fe5f",
   "metadata": {},
   "source": [
    "We go:\n",
    "**Regular Expression** `(a|b)*c` → **Thompson's Algorithm** → **NFA** (Nondeterministic Finite Automaton) → **Subset Construction** → **DFA** (Deterministic Finite Automaton)"
   ]
  },
  {
   "cell_type": "markdown",
   "id": "ba07351d-3674-40d1-8077-dd430cad48c4",
   "metadata": {},
   "source": [
    "## DFA & NFA - [**Finite State Machines**](https://en.wikipedia.org/wiki/Finite-state_machine)           \n",
    "           \n",
    "[Finite automata](https://www.geeksforgeeks.org/theory-of-computation/introduction-of-finite-automata/) are simple \"machines\".             \n",
    "They have a finite number of **states** and move between them based on input symbols.              \n",
    "Kind of like a Monopoly or snakes & ladders or similar board game, where each space is a state and the input tells you which path to take.             \n",
    "           \n",
    "[Here's a course I've enjoyed](https://www.youtube.com/playlist?list=PL7HjUNIdk93ThXvz2Oa_g30Jt3Owwm4HZ), hopefully more folks do too.           \n",
    "         "
   ]
  },
  {
   "cell_type": "markdown",
   "id": "365530ac-e149-49a7-a5b1-be198d207c13",
   "metadata": {},
   "source": [
    "  \n",
    "### [Deterministic Finite Automaton (DFA)](https://en.wikipedia.org/wiki/Deterministic_finite_automaton)           \n",
    "           \n",
    "A DFA is strict, predictable.   \n",
    "For any given state and any given input symbol, there is **exactly one** state it can move to.    \n",
    "No ambiguity.           \n",
    "\n",
    "                      \n",
    "           "
   ]
  },
  {
   "cell_type": "markdown",
   "id": "3b43f383-1f79-4bcb-9209-03a8f91bef7e",
   "metadata": {},
   "source": [
    "1.  **One Path:** For any input string, there's only one possible path through the machine.           \n",
    "2.  **No $\\epsilon$-transitions:** The machine can't change state without consuming an input symbol (no \"free\" moves).           \n",
    "3.  **Every state must have a transition for every symbol** in the alphabet.           \n",
    "           "
   ]
  },
  {
   "cell_type": "markdown",
   "id": "6501f346-4997-41ca-955b-ddb4a6d21cc4",
   "metadata": {},
   "source": [
    "A DFA has 5 parts - States, Alphabet, Transitions, Start State, Accept States:            \n",
    "           \n",
    "\n",
    "  * $Q$: A finite set of *states*.           \n",
    "  * $\\Sigma$: A finite set of input *symbols* (aka the alphabet).           \n",
    "  * $\\delta$: The transition *function*, $\\delta: Q \\times \\Sigma \\to Q$. (Given a state and a symbol, it returns *one* next state).           \n",
    "  * $q_0$: The initial start state.           \n",
    "  * $F$: A set of *final* or \"*accept*\" states.           \n",
    "\n",
    "*(This Greek thing is what's formally used, IMO its just dissonance, takes longer for our brains to grok the main idea)*"
   ]
  },
  {
   "cell_type": "markdown",
   "id": "f6a5e067-c353-42e2-b442-603456715915",
   "metadata": {},
   "source": [
    "**Example: A DFA that accepts strings ending in 'a'**           \n",
    "           \n",
    "  * $Q$ - The set of **states:** {$State_0$, $State_1$}           \n",
    "  * $q_0$ - **Start State:** $State_0$           \n",
    "  * **Accept State:** {$State_1$}           \n",
    "  * **Transitions:**           \n",
    "      * From $State_0$, on 'a' go to $State_1$.           \n",
    "      * From $State_0$, on 'b' go to $State_0$.           \n",
    "      * From $State_1$, on 'a' go to $State_1$.           \n",
    "      * From $State_1$, on 'b' go to $State_0$.          \n",
    "           "
   ]
  },
  {
   "cell_type": "markdown",
   "id": "249d6414-3090-4a6c-a2ce-0461b43c47c7",
   "metadata": {},
   "source": [
    "tracing the execution of the state machine for the input string \"**bab**a\":           \n",
    "           \n",
    "1.  Start at $State_0$. Input 'b' -> Stay at $State_0$.           \n",
    "2.  At $State_0$. Input 'a' -> Move to $State_1$.           \n",
    "3.  At $State_1$. Input 'b' -> Move to $State_0$.           \n",
    "4.  At $State_0$. Input 'a' -> Move to $State_1$.           \n",
    "       \n",
    "...end of string. We are in S1, which is an accept state. **The string is accepted!**            \n",
    "          "
   ]
  },
  {
   "cell_type": "markdown",
   "id": "a2945509-9960-4ff5-b943-9b7c1b3b458d",
   "metadata": {},
   "source": [
    "#### The key rule for a DFA is: from any given state, for any given input symbol, there is **exactly one** place to go next.     \n",
    "Another heuristic is to draw the machine as a graph, where as many arrows exit the node as enter.   \n",
    "Also, every symbol in the alphabet is addressed in each node."
   ]
  },
  {
   "cell_type": "markdown",
   "id": "0b8f2a13-ad80-4053-b0c4-850af263d7ce",
   "metadata": {},
   "source": [
    "#### State Machine **Execution Engine**  \n",
    "\n",
    "`Engine` is a big word for a simple function.   \n",
    "It expects a dictionary of the following format and cycles through any input string to `execute`...   \n",
    "```Python\n",
    "dfa = {\n",
    "    \"states\":{},         # dict of states - \"state_name\"\n",
    "    \"alphabet\":{},       # dict of alphabets - \"alphabet\"\n",
    "    \"transitions\":{},    # dict of transitions - {\"state_name\": {\"input_alphabet\":\"next_state\", \"input_alphabet\":\"next_state\"...}, ...}\n",
    "    \"start_state\":\"\",    # string - the \"state_name\" of the start state\n",
    "    \"accept_states\":{}   # dict of accept states\n",
    "}\n",
    "```"
   ]
  },
  {
   "cell_type": "code",
   "execution_count": 22,
   "id": "524a862e-d7ed-46d3-9b46-8f6426c528e5",
   "metadata": {},
   "outputs": [],
   "source": [
    "# RUN DA DFA - a method to run the DFA and provide a trace of how the machine processed things\n",
    "# It expects a DFA with states, alphabet, transitions, start_state, accept_states\n",
    "def run_da_dfa(machine, input_string):\n",
    "\n",
    "    current_state = machine[\"start_state\"]\n",
    "    print(f\"Start: state = {current_state}\")\n",
    "\n",
    "    # Process the string one symbol at a time.\n",
    "    for symbol in input_string:\n",
    "        # Check if the symbol is valid for this machine.\n",
    "        if symbol not in machine[\"alphabet\"]:\n",
    "            print(f\"  Error: Symbol '{symbol}' not in alphabet. Rejecting.\")\n",
    "            return False\n",
    "\n",
    "        # Look up the next state from the transitions table.\n",
    "        next_state = machine[\"transitions\"][current_state][symbol]\n",
    "        print(f\"  Input '{symbol}': {current_state} -> {next_state}\")\n",
    "        current_state = next_state\n",
    "\n",
    "    # After the loop, check if the final state is an accept state.\n",
    "    is_accepted = current_state in machine[\"accept_states\"]\n",
    "    print(f\"End: final state = {current_state}. Accepted: {is_accepted}\\n\")\n",
    "    return is_accepted"
   ]
  },
  {
   "cell_type": "markdown",
   "id": "2e2be8f2-06d8-459b-8319-a03accbd0055",
   "metadata": {},
   "source": [
    "#### Example 01:  **strings that contain an even number of 'a's**.   \n",
    "The alphabet is {'a', 'b'}.\n",
    "\n",
    "  * `\"aba\"` -\\> accepted (2 'a's)\n",
    "  * `\"b\"` -\\> accepted (0 'a's)\n",
    "  * `\"a\"` -\\> rejected (1 'a')\n",
    "  * `\"aaab\"` -\\> rejected (3 'a's)"
   ]
  },
  {
   "cell_type": "markdown",
   "id": "b3306ec3-6f04-46e3-b7b7-9269fb370642",
   "metadata": {},
   "source": [
    "We build a machine with two states:\n",
    "  \n",
    "1.  `q0`: even number of 'a's seen in the string so far. This is our **start state**. Since 0 is even, it is also an **accept state**.\n",
    "2.  `q1`: encountered an odd number of 'a's so far.\n",
    "   "
   ]
  },
  {
   "cell_type": "markdown",
   "id": "845bca4d-0c6b-48ae-be5c-3ad4bcf4fd53",
   "metadata": {},
   "source": [
    "represent this entire machine as a Python dictionary.   \n",
    "This is just a data structure - there's no complex logic in it yet."
   ]
  },
  {
   "cell_type": "markdown",
   "id": "9fd08385-8f3a-4013-9f29-25b4e113375b",
   "metadata": {},
   "source": [
    "```mermaid\n",
    "stateDiagram-v2\n",
    "    direction LR\n",
    "    [*] --> q0\n",
    "    q0 --> q1: a\n",
    "    q0 --> q0: b\n",
    "    q1 --> q0: a\n",
    "    q1 --> q1: b\n",
    "    q0: q0 (both, start state and accept state)\n",
    "```"
   ]
  },
  {
   "cell_type": "code",
   "execution_count": 23,
   "id": "42548470-792a-4524-87ab-47257926081f",
   "metadata": {},
   "outputs": [],
   "source": [
    "# DFA = {states, alphabets, transitions, start_state, accept_states}\n",
    "even_a_machine = {\n",
    "    # A set of all states for this machine.\n",
    "    \"states\": {\"q0\", \"q1\"},\n",
    "    # The set of allowed input symbols.\n",
    "    \"alphabet\": {\"a\", \"b\"},\n",
    "    # The transition function, mapping (state, symbol) to a next state.\n",
    "    # For a DFA, the next state is a single state.\n",
    "    \"transitions\": {\n",
    "        \"q0\": {\"a\": \"q1\", \"b\": \"q0\"},\n",
    "        \"q1\": {\"a\": \"q0\", \"b\": \"q1\"},\n",
    "    },\n",
    "    # The single state where the machine begins.\n",
    "    \"start_state\": \"q0\",\n",
    "    # A set of states that mean \"accept\" if the machine finishes in one of them.\n",
    "    \"accept_states\": {\"q0\"},\n",
    "}"
   ]
  },
  {
   "cell_type": "code",
   "execution_count": 24,
   "id": "ad3429fc-af31-46d5-9181-f2cc49239e43",
   "metadata": {},
   "outputs": [
    {
     "name": "stdout",
     "output_type": "stream",
     "text": [
      "Testing '':\n",
      "Start: state = q0\n",
      "End: final state = q0. Accepted: True\n",
      "\n"
     ]
    },
    {
     "data": {
      "text/plain": [
       "True"
      ]
     },
     "execution_count": 24,
     "metadata": {},
     "output_type": "execute_result"
    }
   ],
   "source": [
    "print(\"Testing '':\")\n",
    "run_da_dfa(even_a_machine, \"\")     # Expected: True (0 is even)"
   ]
  },
  {
   "cell_type": "code",
   "execution_count": 25,
   "id": "381aa56e-4e09-4f82-b4ce-6985b316bbe8",
   "metadata": {},
   "outputs": [
    {
     "name": "stdout",
     "output_type": "stream",
     "text": [
      "Testing 'aba':\n",
      "Start: state = q0\n",
      "  Input 'a': q0 -> q1\n",
      "  Input 'b': q1 -> q1\n",
      "  Input 'a': q1 -> q0\n",
      "End: final state = q0. Accepted: True\n",
      "\n"
     ]
    },
    {
     "data": {
      "text/plain": [
       "True"
      ]
     },
     "execution_count": 25,
     "metadata": {},
     "output_type": "execute_result"
    }
   ],
   "source": [
    "print(\"Testing 'aba':\")\n",
    "run_da_dfa(even_a_machine, \"aba\")  # Expected: True"
   ]
  },
  {
   "cell_type": "code",
   "execution_count": 26,
   "id": "5bdca6d1-be57-4424-8d25-77b0ce36489f",
   "metadata": {},
   "outputs": [
    {
     "name": "stdout",
     "output_type": "stream",
     "text": [
      "Testing 'a':\n",
      "Start: state = q0\n",
      "  Input 'a': q0 -> q1\n",
      "End: final state = q1. Accepted: False\n",
      "\n"
     ]
    },
    {
     "data": {
      "text/plain": [
       "False"
      ]
     },
     "execution_count": 26,
     "metadata": {},
     "output_type": "execute_result"
    }
   ],
   "source": [
    "print(\"Testing 'a':\")\n",
    "run_da_dfa(even_a_machine, \"a\")    # Expected: False"
   ]
  },
  {
   "cell_type": "code",
   "execution_count": 27,
   "id": "1aedddaf-5daf-4da5-b692-e99df3b28ae1",
   "metadata": {},
   "outputs": [
    {
     "name": "stdout",
     "output_type": "stream",
     "text": [
      "Testing 'bbab':\n",
      "Start: state = q0\n",
      "  Input 'b': q0 -> q0\n",
      "  Input 'b': q0 -> q0\n",
      "  Input 'a': q0 -> q1\n",
      "  Input 'b': q1 -> q1\n",
      "End: final state = q1. Accepted: False\n",
      "\n"
     ]
    },
    {
     "data": {
      "text/plain": [
       "False"
      ]
     },
     "execution_count": 27,
     "metadata": {},
     "output_type": "execute_result"
    }
   ],
   "source": [
    "print(\"Testing 'bbab':\")\n",
    "run_da_dfa(even_a_machine, \"bbab\") # Expected: False"
   ]
  },
  {
   "cell_type": "markdown",
   "id": "1943060e-2bfa-4186-bb0b-4e0fab71b83e",
   "metadata": {},
   "source": [
    "**Data and Logic**     \n",
    "The `even_a_machine` dictionary is pure data.       \n",
    "The `run_da_dfa` function is pure logic.      \n",
    "This is a fundamental concept.        \n",
    "The same `run_dfa` function could run *any* DFA we define, as long as it follows the same dictionary structure.                "
   ]
  },
  {
   "cell_type": "markdown",
   "id": "0208b3e0-8da1-421f-a903-b3aec02a6219",
   "metadata": {},
   "source": [
    "**State**    \n",
    "The `current_state` variable is the machine's entire memory. It's a very limited memory, which is why it's a \"finite\" automaton. It only knows which state it's in; it doesn't remember the path it took to get there.                "
   ]
  },
  {
   "cell_type": "markdown",
   "id": "fab3e99d-fe62-4674-8f56-79de04cbc4e9",
   "metadata": {},
   "source": [
    "**Determinism**      \n",
    "Look at the `transitions` dictionary.     \n",
    "For every state (`q0`, `q1`) and every symbol (`a`, `b`), there is **one and only one** resulting state specified.     \n",
    "This certainty is what makes it deterministic.                 "
   ]
  },
  {
   "cell_type": "markdown",
   "id": "c00a3a24-338d-4482-a01e-2577d27711f7",
   "metadata": {},
   "source": [
    "#### Example 02: **accepts strings ending in '1'**    \n",
    "\n",
    "For the binary alphabet - \"0\" and \"1\", we need  \n",
    "a machine that *accepts* binary strings like \"001\", \"11\", and \"1\" but *rejects* \"10\", \"00\", and \"\"   \n",
    "\n"
   ]
  },
  {
   "cell_type": "markdown",
   "id": "8be8337e-a949-448d-be3b-519c410b1fdd",
   "metadata": {},
   "source": [
    "  * `q0`: The initial state. We are in this state if we haven't seen a '1' yet, or the last symbol seen was a '0'. This is a **reject** state.                \n",
    "  * `q1`: The state we are in if the most recent symbol was a '1'. This is an **accept** state.                "
   ]
  },
  {
   "cell_type": "markdown",
   "id": "7443ab56-361e-4ce4-81db-f7ca4958193b",
   "metadata": {},
   "source": [
    "```mermaid\n",
    "stateDiagram-v2\n",
    "    direction LR\n",
    "    [*] --> q0\n",
    "    q0 --> q0: 0\n",
    "    q0 --> q1: 1\n",
    "    q1 --> q0: 0\n",
    "    q1 --> q1: 1\n",
    "    q1: q1 (accept state)\n",
    "    q0: q0 (reject state)\n",
    "```"
   ]
  },
  {
   "cell_type": "code",
   "execution_count": 18,
   "id": "a28d5a7b-220e-4e70-9955-d960b6caf18b",
   "metadata": {},
   "outputs": [],
   "source": [
    "dfa_ends_with_1 = {                \n",
    "    \"states\": {\"q0\", \"q1\"},                \n",
    "    \"alphabet\": {\"0\", \"1\"},                \n",
    "    \"transitions\": {                \n",
    "        # From state q0: if we read a '0', we stay in q0. If '1', we go to q1.                \n",
    "        \"q0\": {\"0\": \"q0\", \"1\": \"q1\"},                \n",
    "        # From state q1: if we read a '0', we go back to q0. If '1', we stay in q1.                \n",
    "        \"q1\": {\"0\": \"q0\", \"1\": \"q1\"},                \n",
    "    },                \n",
    "    \"start_state\": \"q0\",                \n",
    "    \"accept_states\": {\"q1\"},                \n",
    "}                "
   ]
  },
  {
   "cell_type": "code",
   "execution_count": 28,
   "id": "26bb40e1-6842-44a0-bc9b-7697f1b7980d",
   "metadata": {},
   "outputs": [
    {
     "name": "stdout",
     "output_type": "stream",
     "text": [
      "Testing '101':\n",
      "Start: state = q0\n",
      "  Input '1': q0 -> q1\n",
      "  Input '0': q1 -> q0\n",
      "  Input '1': q0 -> q1\n",
      "End: final state = q1. Accepted: True\n",
      "\n"
     ]
    },
    {
     "data": {
      "text/plain": [
       "True"
      ]
     },
     "execution_count": 28,
     "metadata": {},
     "output_type": "execute_result"
    }
   ],
   "source": [
    "print(\"Testing '101':\")\n",
    "run_da_dfa(dfa_ends_with_1, \"101\")                "
   ]
  },
  {
   "cell_type": "code",
   "execution_count": 29,
   "id": "c9260ef7-b6a4-44a4-9678-2f231b0030d4",
   "metadata": {},
   "outputs": [
    {
     "name": "stdout",
     "output_type": "stream",
     "text": [
      "Testing '100':\n",
      "Start: state = q0\n",
      "  Input '1': q0 -> q1\n",
      "  Input '0': q1 -> q0\n",
      "  Input '0': q0 -> q0\n",
      "End: final state = q0. Accepted: False\n",
      "\n"
     ]
    },
    {
     "data": {
      "text/plain": [
       "False"
      ]
     },
     "execution_count": 29,
     "metadata": {},
     "output_type": "execute_result"
    }
   ],
   "source": [
    "print(\"Testing '100':\")\n",
    "run_da_dfa(dfa_ends_with_1, \"100\")"
   ]
  },
  {
   "cell_type": "markdown",
   "id": "a77fd5a5-db6a-4f00-8ada-e0a686af2574",
   "metadata": {},
   "source": [
    "#### Example 03: strings that **start with \"ab\"**  \n",
    "The alphabet is {'a', 'b'}."
   ]
  },
  {
   "cell_type": "markdown",
   "id": "e4382df7-8ab1-49eb-827b-dc701442f510",
   "metadata": {},
   "source": [
    "```mermaid\n",
    "stateDiagram-v2\n",
    "    direction LR\n",
    "    [*] --> q0 : Start\n",
    "    q0 --> q1: a\n",
    "    q0 --> q_dead: b\n",
    "    q1 --> q2: b\n",
    "    q1 --> q_dead: a\n",
    "    q2 --> q2: a\n",
    "    q2 --> q2: b\n",
    "    q_dead --> q_dead: a\n",
    "    q_dead --> q_dead: b\n",
    "    q2: Accept\n",
    "    q_dead: Reject\n",
    "```"
   ]
  },
  {
   "cell_type": "code",
   "execution_count": 33,
   "id": "ffdf55d6-82a5-4872-baae-40b26e9d9d89",
   "metadata": {},
   "outputs": [],
   "source": [
    "dfa_starts_with_ab = {                \n",
    "    \"states\": {\"q0\", \"q1\", \"q2\", \"q_dead\"},                \n",
    "    \"alphabet\": {\"a\", \"b\"},                \n",
    "    \"start_state\": \"q0\",                \n",
    "    \"accept_states\": {\"q2\"},                \n",
    "    \"transitions\": {                \n",
    "        \"q0\": {\"a\": \"q1\", \"b\": \"q_dead\"},         # Must start with 'a' - if 'a' is found at start, go to 'q1', where we check for 'b'                \n",
    "        \"q1\": {\"a\": \"q_dead\", \"b\": \"q2\"},         # Then must have 'b' - if 'b' is also found, go to 'q2' which is our 'accept_state'...                \n",
    "        \"q2\": {\"a\": \"q2\", \"b\": \"q2\"},             # It started with \"ab\", so accept                \n",
    "        \"q_dead\": {\"a\": \"q_dead\", \"b\": \"q_dead\"}, # Any other path fails                \n",
    "    },                \n",
    "}"
   ]
  },
  {
   "cell_type": "code",
   "execution_count": 34,
   "id": "8b9970a9-9c34-4c17-8d82-5617f729956e",
   "metadata": {},
   "outputs": [
    {
     "name": "stdout",
     "output_type": "stream",
     "text": [
      "Start: state = q0\n",
      "  Input 'a': q0 -> q1\n",
      "  Input 'b': q1 -> q2\n",
      "  Input 'b': q2 -> q2\n",
      "  Input 'a': q2 -> q2\n",
      "  Input 'b': q2 -> q2\n",
      "End: final state = q2. Accepted: True\n",
      "\n"
     ]
    },
    {
     "data": {
      "text/plain": [
       "True"
      ]
     },
     "execution_count": 34,
     "metadata": {},
     "output_type": "execute_result"
    }
   ],
   "source": [
    "run_da_dfa(dfa_starts_with_ab, \"abbab\") # Should accept"
   ]
  },
  {
   "cell_type": "code",
   "execution_count": 35,
   "id": "96d698c2-00dd-4ffa-ad7c-f56b485cd849",
   "metadata": {},
   "outputs": [
    {
     "name": "stdout",
     "output_type": "stream",
     "text": [
      "Start: state = q0\n",
      "  Input 'a': q0 -> q1\n",
      "  Input 'a': q1 -> q_dead\n",
      "  Input 'b': q_dead -> q_dead\n",
      "End: final state = q_dead. Accepted: False\n",
      "\n"
     ]
    },
    {
     "data": {
      "text/plain": [
       "False"
      ]
     },
     "execution_count": 35,
     "metadata": {},
     "output_type": "execute_result"
    }
   ],
   "source": [
    "run_da_dfa(dfa_starts_with_ab, \"aab\")   # Should reject"
   ]
  },
  {
   "cell_type": "markdown",
   "id": "4fc649eb-61db-457c-b8d9-fc9b3cad5f56",
   "metadata": {},
   "source": [
    "#### Example 04: strings of **exactly length 2**     \n",
    "    The alphabet is {'a', 'b'}."
   ]
  },
  {
   "cell_type": "markdown",
   "id": "8dea7180-0dc8-4f57-a037-b78f646417b9",
   "metadata": {},
   "source": [
    "```mermaid\n",
    "stateDiagram-v2\n",
    "    direction LR\n",
    "    [*] --> q0: Start\n",
    "    q0 --> q1: a\n",
    "    q0 --> q1: b\n",
    "    q1 --> q2: a\n",
    "    q1 --> q2: b\n",
    "    q2 --> q_dead: a\n",
    "    q2 --> q_dead: b\n",
    "    q_dead --> q_dead: a\n",
    "    q_dead --> q_dead: b\n",
    "    q2: Accept\n",
    "    q_dead: Reject\n",
    "```"
   ]
  },
  {
   "cell_type": "code",
   "execution_count": 37,
   "id": "8c791c44-f507-43f3-9221-7e527f878683",
   "metadata": {},
   "outputs": [],
   "source": [
    "dfa_len_2 = {                \n",
    "    \"states\": {\"q0\", \"q1\", \"q2\", \"q_dead\"},                \n",
    "    \"alphabet\": {\"a\", \"b\"},                \n",
    "    \"start_state\": \"q0\",                \n",
    "    \"accept_states\": {\"q2\"},                \n",
    "    \"transitions\": {                \n",
    "        \"q0\": {\"a\": \"q1\", \"b\": \"q1\"},           # First character                \n",
    "        \"q1\": {\"a\": \"q2\", \"b\": \"q2\"},           # Second character                \n",
    "        \"q2\": {\"a\": \"q_dead\", \"b\": \"q_dead\"},   # Third character (too long)                \n",
    "        \"q_dead\": {\"a\": \"q_dead\", \"b\": \"q_dead\"},                \n",
    "    },                \n",
    "}"
   ]
  },
  {
   "cell_type": "code",
   "execution_count": 38,
   "id": "ec043a0c-e424-4416-b0b5-74c394880643",
   "metadata": {},
   "outputs": [
    {
     "name": "stdout",
     "output_type": "stream",
     "text": [
      "Start: state = q0\n",
      "  Input 'a': q0 -> q1\n",
      "  Input 'b': q1 -> q2\n",
      "End: final state = q2. Accepted: True\n",
      "\n"
     ]
    },
    {
     "data": {
      "text/plain": [
       "True"
      ]
     },
     "execution_count": 38,
     "metadata": {},
     "output_type": "execute_result"
    }
   ],
   "source": [
    "run_da_dfa(dfa_len_2, \"ab\") # Should accept"
   ]
  },
  {
   "cell_type": "code",
   "execution_count": 39,
   "id": "5276e84f-03bc-406b-9862-5691a4936bcd",
   "metadata": {},
   "outputs": [
    {
     "name": "stdout",
     "output_type": "stream",
     "text": [
      "Start: state = q0\n",
      "  Input 'a': q0 -> q1\n",
      "End: final state = q1. Accepted: False\n",
      "\n"
     ]
    },
    {
     "data": {
      "text/plain": [
       "False"
      ]
     },
     "execution_count": 39,
     "metadata": {},
     "output_type": "execute_result"
    }
   ],
   "source": [
    "run_da_dfa(dfa_len_2, \"a\")  # Should reject"
   ]
  },
  {
   "cell_type": "markdown",
   "id": "22edd390-be99-4f8b-bfb1-9ee22dce8bcd",
   "metadata": {},
   "source": [
    "#### Example 05: strings with an **odd number of '1's**  \n",
    "\n",
    "The alphabet is {'1', '0'}."
   ]
  },
  {
   "cell_type": "markdown",
   "id": "7567b67e-8501-4919-bc2c-c54fa699abc9",
   "metadata": {},
   "source": [
    "```mermaid\n",
    "stateDiagram-v2\n",
    "    direction LR\n",
    "    [*] --> q_even: Start\n",
    "    q_even --> q_even: 0\n",
    "    q_even --> q_odd: 1\n",
    "    q_odd --> q_odd: 0\n",
    "    q_odd --> q_even: 1\n",
    "    q_odd: Accept\n",
    "```"
   ]
  },
  {
   "cell_type": "code",
   "execution_count": 40,
   "id": "84560342-5881-47ef-8861-e76ce148a5b0",
   "metadata": {},
   "outputs": [],
   "source": [
    "dfa_odd_ones = {                \n",
    "    \"states\": {\"q_even\", \"q_odd\"},                \n",
    "    \"alphabet\": {\"0\", \"1\"},                \n",
    "    \"start_state\": \"q_even\",                \n",
    "    \"accept_states\": {\"q_odd\"},                \n",
    "    \"transitions\": {                \n",
    "        \"q_even\": {\"0\": \"q_even\", \"1\": \"q_odd\"},                \n",
    "        \"q_odd\": {\"0\": \"q_odd\", \"1\": \"q_even\"},                \n",
    "    },                \n",
    "}"
   ]
  },
  {
   "cell_type": "code",
   "execution_count": 41,
   "id": "c2c1193e-92f4-41c0-8b45-cf7f5e36c5fd",
   "metadata": {},
   "outputs": [
    {
     "name": "stdout",
     "output_type": "stream",
     "text": [
      "Start: state = q_even\n",
      "  Input '0': q_even -> q_even\n",
      "  Input '1': q_even -> q_odd\n",
      "  Input '1': q_odd -> q_even\n",
      "  Input '0': q_even -> q_even\n",
      "  Input '1': q_even -> q_odd\n",
      "End: final state = q_odd. Accepted: True\n",
      "\n"
     ]
    },
    {
     "data": {
      "text/plain": [
       "True"
      ]
     },
     "execution_count": 41,
     "metadata": {},
     "output_type": "execute_result"
    }
   ],
   "source": [
    "run_da_dfa(dfa_odd_ones, \"01101\") # Should accept"
   ]
  },
  {
   "cell_type": "code",
   "execution_count": 42,
   "id": "6d7af520-eb8b-45aa-b591-46c9300e9c47",
   "metadata": {},
   "outputs": [
    {
     "name": "stdout",
     "output_type": "stream",
     "text": [
      "Start: state = q_even\n",
      "  Input '1': q_even -> q_odd\n",
      "  Input '1': q_odd -> q_even\n",
      "End: final state = q_even. Accepted: False\n",
      "\n"
     ]
    },
    {
     "data": {
      "text/plain": [
       "False"
      ]
     },
     "execution_count": 42,
     "metadata": {},
     "output_type": "execute_result"
    }
   ],
   "source": [
    "run_da_dfa(dfa_odd_ones, \"11\")    # Should reject"
   ]
  },
  {
   "cell_type": "markdown",
   "id": "681f9961-74f5-4a9f-92d8-5ef7f1761f09",
   "metadata": {},
   "source": [
    "#### Example 06: accepting binary numbers that are a **multiple of 3**     \n",
    "   \n",
    "This is both a bad example and a clever one.    \n",
    "Relies on how multiples of 3 look like in binary."
   ]
  },
  {
   "cell_type": "markdown",
   "id": "a6e5c73a-f9d5-4ecd-9786-056ac93e1602",
   "metadata": {},
   "source": [
    "```mermaid\n",
    "stateDiagram-v2\n",
    "    direction LR\n",
    "    [*] --> q0: Start\n",
    "    q0 --> q0: 0\n",
    "    q0 --> q1: 1\n",
    "    q1 --> q2: 0\n",
    "    q1 --> q0: 1\n",
    "    q2 --> q1: 0\n",
    "    q2 --> q2: 1\n",
    "    q0: Accept\n",
    "```"
   ]
  },
  {
   "cell_type": "code",
   "execution_count": 51,
   "id": "6433274e-36d5-4a91-9ebf-3e0c87887872",
   "metadata": {},
   "outputs": [],
   "source": [
    "dfa_multiple_of_3 = {                \n",
    "    \"states\": {\"q0\", \"q1\", \"q2\"},                \n",
    "    \"alphabet\": {\"0\", \"1\"},                \n",
    "    \"start_state\": \"q0\", # Remainder 0                \n",
    "    \"accept_states\": {\"q0\"},                \n",
    "    \"transitions\": {                \n",
    "        # If current value is `x`, reading '0' makes it `2x`. Reading '1' makes it `2x+1`.                \n",
    "        # All calculations are modulo 3.                \n",
    "        \"q0\": {\"0\": \"q0\", \"1\": \"q1\"}, # (2*0)%3=0, (2*0+1)%3=1                \n",
    "        \"q1\": {\"0\": \"q2\", \"1\": \"q0\"}, # (2*1)%3=2, (2*1+1)%3=0                \n",
    "        \"q2\": {\"0\": \"q1\", \"1\": \"q2\"}, # (2*2)%3=1, (2*2+1)%3=2                \n",
    "    },                \n",
    "}"
   ]
  },
  {
   "cell_type": "code",
   "execution_count": 52,
   "id": "4a47660e-974c-40a7-aacb-48e170a96b1b",
   "metadata": {},
   "outputs": [
    {
     "name": "stdout",
     "output_type": "stream",
     "text": [
      "Start: state = q0\n",
      "  Input '1': q0 -> q1\n",
      "  Input '1': q1 -> q0\n",
      "  Input '0': q0 -> q0\n",
      "End: final state = q0. Accepted: True\n",
      "\n"
     ]
    },
    {
     "data": {
      "text/plain": [
       "True"
      ]
     },
     "execution_count": 52,
     "metadata": {},
     "output_type": "execute_result"
    }
   ],
   "source": [
    "run_da_dfa(dfa_multiple_of_3, \"110\") # 6 in binary, should accept"
   ]
  },
  {
   "cell_type": "code",
   "execution_count": 53,
   "id": "05efd313-a81d-43c0-a53f-037ecf9729c3",
   "metadata": {},
   "outputs": [
    {
     "name": "stdout",
     "output_type": "stream",
     "text": [
      "Start: state = q0\n",
      "  Input '1': q0 -> q1\n",
      "  Input '0': q1 -> q2\n",
      "  Input '1': q2 -> q2\n",
      "End: final state = q2. Accepted: False\n",
      "\n"
     ]
    },
    {
     "data": {
      "text/plain": [
       "False"
      ]
     },
     "execution_count": 53,
     "metadata": {},
     "output_type": "execute_result"
    }
   ],
   "source": [
    "run_da_dfa(dfa_multiple_of_3, \"101\") # 5 in binary, should reject"
   ]
  },
  {
   "cell_type": "markdown",
   "id": "2f3c9172-6fa3-4c5e-91f8-00ef8c536893",
   "metadata": {},
   "source": [
    "#### Example 07: strings with **no consecutive 'a's**    "
   ]
  },
  {
   "cell_type": "markdown",
   "id": "a767715b-ae48-40fd-a24f-28153089cc6f",
   "metadata": {},
   "source": [
    "```mermaid\n",
    "stateDiagram-v2\n",
    "    direction LR\n",
    "    [*] --> q_start: Start\n",
    "    q_start --> q_saw_a: a\n",
    "    q_start --> q_start: b\n",
    "    q_saw_a --> q_dead: a\n",
    "    q_saw_a --> q_start: b\n",
    "    q_dead --> q_dead: a\n",
    "    q_dead --> q_dead: b\n",
    "    q_start: Accept\n",
    "    q_saw_a: Accept\n",
    "    q_dead: Reject\n",
    "\n",
    "```"
   ]
  },
  {
   "cell_type": "code",
   "execution_count": 46,
   "id": "04a89c96-4774-4527-bd33-a1ca220bcccf",
   "metadata": {},
   "outputs": [],
   "source": [
    "dfa_no_consecutive_as = {                \n",
    "    \"states\": {\"q_start\", \"q_saw_a\", \"q_dead\"},                \n",
    "    \"alphabet\": {\"a\", \"b\"},                \n",
    "    \"start_state\": \"q_start\",                \n",
    "    \"accept_states\": {\"q_start\", \"q_saw_a\"},                \n",
    "    \"transitions\": {                \n",
    "        \"q_start\": {\"a\": \"q_saw_a\", \"b\": \"q_start\"},                \n",
    "        \"q_saw_a\": {\"a\": \"q_dead\", \"b\": \"q_start\"},                \n",
    "        \"q_dead\": {\"a\": \"q_dead\", \"b\": \"q_dead\"},                \n",
    "    },                \n",
    "}"
   ]
  },
  {
   "cell_type": "code",
   "execution_count": 47,
   "id": "f0178417-769f-4dbd-b241-a0a8f992d405",
   "metadata": {},
   "outputs": [
    {
     "name": "stdout",
     "output_type": "stream",
     "text": [
      "Start: state = q_start\n",
      "  Input 'a': q_start -> q_saw_a\n",
      "  Input 'b': q_saw_a -> q_start\n",
      "  Input 'a': q_start -> q_saw_a\n",
      "  Input 'b': q_saw_a -> q_start\n",
      "  Input 'a': q_start -> q_saw_a\n",
      "End: final state = q_saw_a. Accepted: True\n",
      "\n"
     ]
    },
    {
     "data": {
      "text/plain": [
       "True"
      ]
     },
     "execution_count": 47,
     "metadata": {},
     "output_type": "execute_result"
    }
   ],
   "source": [
    "run_da_dfa(dfa_no_consecutive_as, \"ababa\") # Should accept"
   ]
  },
  {
   "cell_type": "code",
   "execution_count": 50,
   "id": "b5f52b52-b7fa-403e-a0e2-4d2c5a0405fe",
   "metadata": {},
   "outputs": [
    {
     "name": "stdout",
     "output_type": "stream",
     "text": [
      "Start: state = q_start\n",
      "  Input 'b': q_start -> q_start\n",
      "  Input 'a': q_start -> q_saw_a\n",
      "  Input 'b': q_saw_a -> q_start\n",
      "  Input 'a': q_start -> q_saw_a\n",
      "  Input 'b': q_saw_a -> q_start\n",
      "  Input 'a': q_start -> q_saw_a\n",
      "End: final state = q_saw_a. Accepted: True\n",
      "\n"
     ]
    },
    {
     "data": {
      "text/plain": [
       "True"
      ]
     },
     "execution_count": 50,
     "metadata": {},
     "output_type": "execute_result"
    }
   ],
   "source": [
    "run_da_dfa(dfa_no_consecutive_as, \"bababa\") # Should accept"
   ]
  },
  {
   "cell_type": "code",
   "execution_count": 48,
   "id": "1b16111b-8e88-4f12-b9c9-7f0b4c462776",
   "metadata": {},
   "outputs": [
    {
     "name": "stdout",
     "output_type": "stream",
     "text": [
      "Start: state = q_start\n",
      "  Input 'a': q_start -> q_saw_a\n",
      "  Input 'a': q_saw_a -> q_dead\n",
      "  Input 'b': q_dead -> q_dead\n",
      "End: final state = q_dead. Accepted: False\n",
      "\n"
     ]
    },
    {
     "data": {
      "text/plain": [
       "False"
      ]
     },
     "execution_count": 48,
     "metadata": {},
     "output_type": "execute_result"
    }
   ],
   "source": [
    "run_da_dfa(dfa_no_consecutive_as, \"aab\")  # Should reject"
   ]
  },
  {
   "cell_type": "code",
   "execution_count": 49,
   "id": "d737c0ac-420e-467d-a76c-16e5fec9f091",
   "metadata": {},
   "outputs": [
    {
     "name": "stdout",
     "output_type": "stream",
     "text": [
      "Start: state = q_start\n",
      "  Input 'b': q_start -> q_start\n",
      "  Input 'a': q_start -> q_saw_a\n",
      "  Input 'a': q_saw_a -> q_dead\n",
      "  Input 'b': q_dead -> q_dead\n",
      "End: final state = q_dead. Accepted: False\n",
      "\n"
     ]
    },
    {
     "data": {
      "text/plain": [
       "False"
      ]
     },
     "execution_count": 49,
     "metadata": {},
     "output_type": "execute_result"
    }
   ],
   "source": [
    "run_da_dfa(dfa_no_consecutive_as, \"baab\")  # Should reject"
   ]
  },
  {
   "cell_type": "markdown",
   "id": "d43a4a58-8892-4f23-bfd4-a10363f84fef",
   "metadata": {},
   "source": [
    "       \n",
    "### [Nondeterministic Finite Automaton (NFA)](https://en.wikipedia.org/wiki/Nondeterministic_finite_automaton)           \n",
    "           \n",
    "An NFA is flexible.    \n",
    "It can have **multiple possible moves** from a single state on the same input symbol.  \n",
    "           "
   ]
  },
  {
   "cell_type": "markdown",
   "id": "76112a7d-a806-4730-b612-a34d0b2ca9c6",
   "metadata": {},
   "source": [
    "1.  **Multiple Paths:** From a state, an input symbol can lead to zero, one, or multiple states.           \n",
    "2.  **$\\epsilon$-transitions (Epsilon-moves):** An NFA can change its state *without* consuming an input symbol. This is a \"free\" move.           \n",
    "       "
   ]
  },
  {
   "cell_type": "markdown",
   "id": "e84614ed-1709-4543-9b97-f2da3e126c3f",
   "metadata": {},
   "source": [
    "The NFA accepts an input string if **at least one** of the possible paths ends in an accept state.           \n",
    "           "
   ]
  },
  {
   "cell_type": "markdown",
   "id": "4308bdb7-f222-4f77-9046-6457e6a1fd31",
   "metadata": {},
   "source": [
    "The formal definition is almost the same, but the transition function is different:           \n",
    "           \n",
    "  * $\\delta$: The transition function, $\\delta: Q \\times (\\Sigma \\cup {\\epsilon}) \\to \\mathcal{P}(Q)$.\n",
    "      * (Given a state and a symbol (either symbol or $\\epsilon$), it returns a *set* of possible next states).\n",
    "      * $\\mathcal{P}(Q)$ is the power set of $Q$.           \n",
    "           "
   ]
  },
  {
   "cell_type": "markdown",
   "id": "b2400ccb-783c-4981-a9e3-5ae5d974c8e6",
   "metadata": {},
   "source": [
    "NFAs are often much simpler and smaller than their equivalent DFAs.    \n",
    "I think of these as 'higher order' than DFAs, so you can write in NFA, let it compile to a DFA etc.  \n",
    "  "
   ]
  },
  {
   "cell_type": "markdown",
   "id": "84b6fde9-5c36-4642-a232-961d92cf2af1",
   "metadata": {},
   "source": [
    "NFAs easy to build from regular expressions, which is where Thompson's Algorithm comes in.           \n",
    " "
   ]
  },
  {
   "cell_type": "markdown",
   "id": "28f1432b-108b-45c9-80a5-970c9c13f675",
   "metadata": {},
   "source": []
  },
  {
   "cell_type": "code",
   "execution_count": null,
   "id": "651b8042-20b1-4128-a65e-761d81d80b21",
   "metadata": {},
   "outputs": [],
   "source": []
  },
  {
   "cell_type": "code",
   "execution_count": null,
   "id": "1340a2ff-e8f9-456d-a103-85fd573546cd",
   "metadata": {},
   "outputs": [],
   "source": []
  },
  {
   "cell_type": "code",
   "execution_count": null,
   "id": "7e5719b7-5388-45d3-93c3-dcfd7533d0e2",
   "metadata": {},
   "outputs": [],
   "source": []
  },
  {
   "cell_type": "code",
   "execution_count": null,
   "id": "b8cbcc83-661e-4b57-b51e-247522102cdf",
   "metadata": {},
   "outputs": [],
   "source": []
  },
  {
   "cell_type": "code",
   "execution_count": null,
   "id": "47240fd2-35ca-4276-86f2-c6d203d164b7",
   "metadata": {},
   "outputs": [],
   "source": []
  }
 ],
 "metadata": {
  "kernelspec": {
   "display_name": "Python 3 (ipykernel)",
   "language": "python",
   "name": "python3"
  },
  "language_info": {
   "codemirror_mode": {
    "name": "ipython",
    "version": 3
   },
   "file_extension": ".py",
   "mimetype": "text/x-python",
   "name": "python",
   "nbconvert_exporter": "python",
   "pygments_lexer": "ipython3",
   "version": "3.11.7"
  }
 },
 "nbformat": 4,
 "nbformat_minor": 5
}
